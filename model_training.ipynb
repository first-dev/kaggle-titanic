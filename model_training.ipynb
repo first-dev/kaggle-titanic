{
 "cells": [
  {
   "attachments": {},
   "cell_type": "markdown",
   "metadata": {},
   "source": [
    "# Training the Titanic model"
   ]
  },
  {
   "attachments": {},
   "cell_type": "markdown",
   "metadata": {},
   "source": [
    "The ML model we will use here is XGBoost Classifier."
   ]
  },
  {
   "attachments": {},
   "cell_type": "markdown",
   "metadata": {},
   "source": [
    "## Import necessary libraries"
   ]
  },
  {
   "cell_type": "code",
   "execution_count": 4,
   "metadata": {},
   "outputs": [],
   "source": [
    "import pandas as pd\n",
    "import numpy as np\n",
    "import utils as ut\n",
    "import xgboost as xgb\n",
    "from sklearn import metrics\n",
    "import matplotlib.pyplot as plt\n",
    "%matplotlib inline"
   ]
  },
  {
   "attachments": {},
   "cell_type": "markdown",
   "metadata": {},
   "source": [
    "## Preparing the data"
   ]
  },
  {
   "cell_type": "code",
   "execution_count": 2,
   "metadata": {},
   "outputs": [],
   "source": [
    "raw_df = ut.load_data()\n",
    "df = ut.preprocess_data(raw_df)\n",
    "# print(df.drop('Survived', axis=1).head())\n",
    "# df['Survived']"
   ]
  },
  {
   "cell_type": "code",
   "execution_count": 3,
   "metadata": {},
   "outputs": [
    {
     "name": "stdout",
     "output_type": "stream",
     "text": [
      "Age           float64\n",
      "SibSp           int64\n",
      "Parch           int64\n",
      "Ticket        float64\n",
      "Fare          float64\n",
      "Room          float64\n",
      "Pclass_1        uint8\n",
      "Pclass_2        uint8\n",
      "Pclass_3        uint8\n",
      "Sex_female      uint8\n",
      "Sex_male        uint8\n",
      "Embarked_C      uint8\n",
      "Embarked_Q      uint8\n",
      "Embarked_S      uint8\n",
      "Deck_A          uint8\n",
      "Deck_B          uint8\n",
      "Deck_C          uint8\n",
      "Deck_D          uint8\n",
      "Deck_E          uint8\n",
      "Deck_F          uint8\n",
      "Deck_G          uint8\n",
      "Deck_T          uint8\n",
      "dtype: object\n"
     ]
    }
   ],
   "source": [
    "raw_df = ut.load_data()\n",
    "df = ut.preprocess_data(raw_df)\n",
    "dmatrix = xgb.DMatrix(data=df.drop('Survived', axis=1), label=df['Survived'])\n",
    "X_train, y_train, X_val, y_val, X_test, y_test = ut.split_data(df)\n",
    "# print type of each column in X_train\n",
    "print(X_train.dtypes)"
   ]
  },
  {
   "attachments": {},
   "cell_type": "markdown",
   "metadata": {},
   "source": [
    "### Data preview"
   ]
  },
  {
   "cell_type": "code",
   "execution_count": 4,
   "metadata": {},
   "outputs": [
    {
     "name": "stdout",
     "output_type": "stream",
     "text": [
      "Data shapes:\n",
      "\n",
      "X_train:  (712, 22)\n",
      "y_train:  (712,)\n",
      "X_val:    (89, 22)\n",
      "y_val:    (89,)\n",
      "X_test:   (90, 22)\n",
      "y_test:   (90,)\n"
     ]
    },
    {
     "data": {
      "text/html": [
       "<div>\n",
       "<style scoped>\n",
       "    .dataframe tbody tr th:only-of-type {\n",
       "        vertical-align: middle;\n",
       "    }\n",
       "\n",
       "    .dataframe tbody tr th {\n",
       "        vertical-align: top;\n",
       "    }\n",
       "\n",
       "    .dataframe thead th {\n",
       "        text-align: right;\n",
       "    }\n",
       "</style>\n",
       "<table border=\"1\" class=\"dataframe\">\n",
       "  <thead>\n",
       "    <tr style=\"text-align: right;\">\n",
       "      <th></th>\n",
       "      <th>Survived</th>\n",
       "      <th>Age</th>\n",
       "      <th>SibSp</th>\n",
       "      <th>Parch</th>\n",
       "      <th>Ticket</th>\n",
       "      <th>Fare</th>\n",
       "      <th>Room</th>\n",
       "      <th>Pclass_1</th>\n",
       "      <th>Pclass_2</th>\n",
       "      <th>Pclass_3</th>\n",
       "      <th>...</th>\n",
       "      <th>Embarked_Q</th>\n",
       "      <th>Embarked_S</th>\n",
       "      <th>Deck_A</th>\n",
       "      <th>Deck_B</th>\n",
       "      <th>Deck_C</th>\n",
       "      <th>Deck_D</th>\n",
       "      <th>Deck_E</th>\n",
       "      <th>Deck_F</th>\n",
       "      <th>Deck_G</th>\n",
       "      <th>Deck_T</th>\n",
       "    </tr>\n",
       "  </thead>\n",
       "  <tbody>\n",
       "    <tr>\n",
       "      <th>0</th>\n",
       "      <td>0</td>\n",
       "      <td>22.0</td>\n",
       "      <td>1</td>\n",
       "      <td>0</td>\n",
       "      <td>21171.0</td>\n",
       "      <td>7.2500</td>\n",
       "      <td>NaN</td>\n",
       "      <td>0</td>\n",
       "      <td>0</td>\n",
       "      <td>1</td>\n",
       "      <td>...</td>\n",
       "      <td>0</td>\n",
       "      <td>1</td>\n",
       "      <td>0</td>\n",
       "      <td>0</td>\n",
       "      <td>0</td>\n",
       "      <td>0</td>\n",
       "      <td>0</td>\n",
       "      <td>0</td>\n",
       "      <td>0</td>\n",
       "      <td>0</td>\n",
       "    </tr>\n",
       "    <tr>\n",
       "      <th>1</th>\n",
       "      <td>1</td>\n",
       "      <td>38.0</td>\n",
       "      <td>1</td>\n",
       "      <td>0</td>\n",
       "      <td>17599.0</td>\n",
       "      <td>71.2833</td>\n",
       "      <td>85.0</td>\n",
       "      <td>1</td>\n",
       "      <td>0</td>\n",
       "      <td>0</td>\n",
       "      <td>...</td>\n",
       "      <td>0</td>\n",
       "      <td>0</td>\n",
       "      <td>0</td>\n",
       "      <td>0</td>\n",
       "      <td>1</td>\n",
       "      <td>0</td>\n",
       "      <td>0</td>\n",
       "      <td>0</td>\n",
       "      <td>0</td>\n",
       "      <td>0</td>\n",
       "    </tr>\n",
       "    <tr>\n",
       "      <th>2</th>\n",
       "      <td>1</td>\n",
       "      <td>26.0</td>\n",
       "      <td>0</td>\n",
       "      <td>0</td>\n",
       "      <td>3101282.0</td>\n",
       "      <td>7.9250</td>\n",
       "      <td>NaN</td>\n",
       "      <td>0</td>\n",
       "      <td>0</td>\n",
       "      <td>1</td>\n",
       "      <td>...</td>\n",
       "      <td>0</td>\n",
       "      <td>1</td>\n",
       "      <td>0</td>\n",
       "      <td>0</td>\n",
       "      <td>0</td>\n",
       "      <td>0</td>\n",
       "      <td>0</td>\n",
       "      <td>0</td>\n",
       "      <td>0</td>\n",
       "      <td>0</td>\n",
       "    </tr>\n",
       "    <tr>\n",
       "      <th>3</th>\n",
       "      <td>1</td>\n",
       "      <td>35.0</td>\n",
       "      <td>1</td>\n",
       "      <td>0</td>\n",
       "      <td>113803.0</td>\n",
       "      <td>53.1000</td>\n",
       "      <td>123.0</td>\n",
       "      <td>1</td>\n",
       "      <td>0</td>\n",
       "      <td>0</td>\n",
       "      <td>...</td>\n",
       "      <td>0</td>\n",
       "      <td>1</td>\n",
       "      <td>0</td>\n",
       "      <td>0</td>\n",
       "      <td>1</td>\n",
       "      <td>0</td>\n",
       "      <td>0</td>\n",
       "      <td>0</td>\n",
       "      <td>0</td>\n",
       "      <td>0</td>\n",
       "    </tr>\n",
       "    <tr>\n",
       "      <th>4</th>\n",
       "      <td>0</td>\n",
       "      <td>35.0</td>\n",
       "      <td>0</td>\n",
       "      <td>0</td>\n",
       "      <td>373450.0</td>\n",
       "      <td>8.0500</td>\n",
       "      <td>NaN</td>\n",
       "      <td>0</td>\n",
       "      <td>0</td>\n",
       "      <td>1</td>\n",
       "      <td>...</td>\n",
       "      <td>0</td>\n",
       "      <td>1</td>\n",
       "      <td>0</td>\n",
       "      <td>0</td>\n",
       "      <td>0</td>\n",
       "      <td>0</td>\n",
       "      <td>0</td>\n",
       "      <td>0</td>\n",
       "      <td>0</td>\n",
       "      <td>0</td>\n",
       "    </tr>\n",
       "  </tbody>\n",
       "</table>\n",
       "<p>5 rows × 23 columns</p>\n",
       "</div>"
      ],
      "text/plain": [
       "   Survived   Age  SibSp  Parch     Ticket     Fare   Room  Pclass_1  \\\n",
       "0         0  22.0      1      0    21171.0   7.2500    NaN         0   \n",
       "1         1  38.0      1      0    17599.0  71.2833   85.0         1   \n",
       "2         1  26.0      0      0  3101282.0   7.9250    NaN         0   \n",
       "3         1  35.0      1      0   113803.0  53.1000  123.0         1   \n",
       "4         0  35.0      0      0   373450.0   8.0500    NaN         0   \n",
       "\n",
       "   Pclass_2  Pclass_3  ...  Embarked_Q  Embarked_S  Deck_A  Deck_B  Deck_C  \\\n",
       "0         0         1  ...           0           1       0       0       0   \n",
       "1         0         0  ...           0           0       0       0       1   \n",
       "2         0         1  ...           0           1       0       0       0   \n",
       "3         0         0  ...           0           1       0       0       1   \n",
       "4         0         1  ...           0           1       0       0       0   \n",
       "\n",
       "   Deck_D  Deck_E  Deck_F  Deck_G  Deck_T  \n",
       "0       0       0       0       0       0  \n",
       "1       0       0       0       0       0  \n",
       "2       0       0       0       0       0  \n",
       "3       0       0       0       0       0  \n",
       "4       0       0       0       0       0  \n",
       "\n",
       "[5 rows x 23 columns]"
      ]
     },
     "execution_count": 4,
     "metadata": {},
     "output_type": "execute_result"
    }
   ],
   "source": [
    "print('Data shapes:\\n')\n",
    "print('X_train: ', X_train.shape)\n",
    "print('y_train: ', y_train.shape)\n",
    "print('X_val:   ', X_val.shape)\n",
    "print('y_val:   ', y_val.shape)\n",
    "print('X_test:  ', X_test.shape)\n",
    "print('y_test:  ', y_test.shape)\n",
    "\n",
    "df.head()"
   ]
  },
  {
   "attachments": {},
   "cell_type": "markdown",
   "metadata": {},
   "source": [
    "## Pretuned model"
   ]
  },
  {
   "cell_type": "code",
   "execution_count": 5,
   "metadata": {},
   "outputs": [],
   "source": [
    "default_params = {\n",
    "    'random_state': 0,\n",
    "    'missing': np.nan,\n",
    "    'objective': 'binary:logistic',\n",
    "    'eval_metric': 'logloss',\n",
    "    'n_estimators': 1000,\n",
    "    # 'early_stopping_rounds': 10,\n",
    "    # 'learning_rate': 0.1,\n",
    "    # 'max_depth': 3,\n",
    "    # 'subsample': 0.8,\n",
    "    # 'colsample_bytree': 1,\n",
    "    # 'alpha': 0.3,\n",
    "    # 'lambda': 1,\n",
    "    # 'gamma': 1,\n",
    "\n",
    "    # 'tree_method': 'gpu_hist'\n",
    "}\n",
    "\n",
    "xgb_model = xgb.XGBClassifier()\n"
   ]
  },
  {
   "cell_type": "code",
   "execution_count": 6,
   "metadata": {},
   "outputs": [
    {
     "data": {
      "text/html": [
       "<style>#sk-container-id-1 {color: black;background-color: white;}#sk-container-id-1 pre{padding: 0;}#sk-container-id-1 div.sk-toggleable {background-color: white;}#sk-container-id-1 label.sk-toggleable__label {cursor: pointer;display: block;width: 100%;margin-bottom: 0;padding: 0.3em;box-sizing: border-box;text-align: center;}#sk-container-id-1 label.sk-toggleable__label-arrow:before {content: \"▸\";float: left;margin-right: 0.25em;color: #696969;}#sk-container-id-1 label.sk-toggleable__label-arrow:hover:before {color: black;}#sk-container-id-1 div.sk-estimator:hover label.sk-toggleable__label-arrow:before {color: black;}#sk-container-id-1 div.sk-toggleable__content {max-height: 0;max-width: 0;overflow: hidden;text-align: left;background-color: #f0f8ff;}#sk-container-id-1 div.sk-toggleable__content pre {margin: 0.2em;color: black;border-radius: 0.25em;background-color: #f0f8ff;}#sk-container-id-1 input.sk-toggleable__control:checked~div.sk-toggleable__content {max-height: 200px;max-width: 100%;overflow: auto;}#sk-container-id-1 input.sk-toggleable__control:checked~label.sk-toggleable__label-arrow:before {content: \"▾\";}#sk-container-id-1 div.sk-estimator input.sk-toggleable__control:checked~label.sk-toggleable__label {background-color: #d4ebff;}#sk-container-id-1 div.sk-label input.sk-toggleable__control:checked~label.sk-toggleable__label {background-color: #d4ebff;}#sk-container-id-1 input.sk-hidden--visually {border: 0;clip: rect(1px 1px 1px 1px);clip: rect(1px, 1px, 1px, 1px);height: 1px;margin: -1px;overflow: hidden;padding: 0;position: absolute;width: 1px;}#sk-container-id-1 div.sk-estimator {font-family: monospace;background-color: #f0f8ff;border: 1px dotted black;border-radius: 0.25em;box-sizing: border-box;margin-bottom: 0.5em;}#sk-container-id-1 div.sk-estimator:hover {background-color: #d4ebff;}#sk-container-id-1 div.sk-parallel-item::after {content: \"\";width: 100%;border-bottom: 1px solid gray;flex-grow: 1;}#sk-container-id-1 div.sk-label:hover label.sk-toggleable__label {background-color: #d4ebff;}#sk-container-id-1 div.sk-serial::before {content: \"\";position: absolute;border-left: 1px solid gray;box-sizing: border-box;top: 0;bottom: 0;left: 50%;z-index: 0;}#sk-container-id-1 div.sk-serial {display: flex;flex-direction: column;align-items: center;background-color: white;padding-right: 0.2em;padding-left: 0.2em;position: relative;}#sk-container-id-1 div.sk-item {position: relative;z-index: 1;}#sk-container-id-1 div.sk-parallel {display: flex;align-items: stretch;justify-content: center;background-color: white;position: relative;}#sk-container-id-1 div.sk-item::before, #sk-container-id-1 div.sk-parallel-item::before {content: \"\";position: absolute;border-left: 1px solid gray;box-sizing: border-box;top: 0;bottom: 0;left: 50%;z-index: -1;}#sk-container-id-1 div.sk-parallel-item {display: flex;flex-direction: column;z-index: 1;position: relative;background-color: white;}#sk-container-id-1 div.sk-parallel-item:first-child::after {align-self: flex-end;width: 50%;}#sk-container-id-1 div.sk-parallel-item:last-child::after {align-self: flex-start;width: 50%;}#sk-container-id-1 div.sk-parallel-item:only-child::after {width: 0;}#sk-container-id-1 div.sk-dashed-wrapped {border: 1px dashed gray;margin: 0 0.4em 0.5em 0.4em;box-sizing: border-box;padding-bottom: 0.4em;background-color: white;}#sk-container-id-1 div.sk-label label {font-family: monospace;font-weight: bold;display: inline-block;line-height: 1.2em;}#sk-container-id-1 div.sk-label-container {text-align: center;}#sk-container-id-1 div.sk-container {/* jupyter's `normalize.less` sets `[hidden] { display: none; }` but bootstrap.min.css set `[hidden] { display: none !important; }` so we also need the `!important` here to be able to override the default hidden behavior on the sphinx rendered scikit-learn.org. See: https://github.com/scikit-learn/scikit-learn/issues/21755 */display: inline-block !important;position: relative;}#sk-container-id-1 div.sk-text-repr-fallback {display: none;}</style><div id=\"sk-container-id-1\" class=\"sk-top-container\"><div class=\"sk-text-repr-fallback\"><pre>XGBClassifier(base_score=None, booster=None, callbacks=None,\n",
       "              colsample_bylevel=None, colsample_bynode=None,\n",
       "              colsample_bytree=None, early_stopping_rounds=None,\n",
       "              enable_categorical=False, eval_metric=None, feature_types=None,\n",
       "              gamma=None, gpu_id=None, grow_policy=None, importance_type=None,\n",
       "              interaction_constraints=None, learning_rate=None, max_bin=None,\n",
       "              max_cat_threshold=None, max_cat_to_onehot=None,\n",
       "              max_delta_step=None, max_depth=None, max_leaves=None,\n",
       "              min_child_weight=None, missing=nan, monotone_constraints=None,\n",
       "              n_estimators=100, n_jobs=None, num_parallel_tree=None,\n",
       "              predictor=None, random_state=None, ...)</pre><b>In a Jupyter environment, please rerun this cell to show the HTML representation or trust the notebook. <br />On GitHub, the HTML representation is unable to render, please try loading this page with nbviewer.org.</b></div><div class=\"sk-container\" hidden><div class=\"sk-item\"><div class=\"sk-estimator sk-toggleable\"><input class=\"sk-toggleable__control sk-hidden--visually\" id=\"sk-estimator-id-1\" type=\"checkbox\" checked><label for=\"sk-estimator-id-1\" class=\"sk-toggleable__label sk-toggleable__label-arrow\">XGBClassifier</label><div class=\"sk-toggleable__content\"><pre>XGBClassifier(base_score=None, booster=None, callbacks=None,\n",
       "              colsample_bylevel=None, colsample_bynode=None,\n",
       "              colsample_bytree=None, early_stopping_rounds=None,\n",
       "              enable_categorical=False, eval_metric=None, feature_types=None,\n",
       "              gamma=None, gpu_id=None, grow_policy=None, importance_type=None,\n",
       "              interaction_constraints=None, learning_rate=None, max_bin=None,\n",
       "              max_cat_threshold=None, max_cat_to_onehot=None,\n",
       "              max_delta_step=None, max_depth=None, max_leaves=None,\n",
       "              min_child_weight=None, missing=nan, monotone_constraints=None,\n",
       "              n_estimators=100, n_jobs=None, num_parallel_tree=None,\n",
       "              predictor=None, random_state=None, ...)</pre></div></div></div></div></div>"
      ],
      "text/plain": [
       "XGBClassifier(base_score=None, booster=None, callbacks=None,\n",
       "              colsample_bylevel=None, colsample_bynode=None,\n",
       "              colsample_bytree=None, early_stopping_rounds=None,\n",
       "              enable_categorical=False, eval_metric=None, feature_types=None,\n",
       "              gamma=None, gpu_id=None, grow_policy=None, importance_type=None,\n",
       "              interaction_constraints=None, learning_rate=None, max_bin=None,\n",
       "              max_cat_threshold=None, max_cat_to_onehot=None,\n",
       "              max_delta_step=None, max_depth=None, max_leaves=None,\n",
       "              min_child_weight=None, missing=nan, monotone_constraints=None,\n",
       "              n_estimators=100, n_jobs=None, num_parallel_tree=None,\n",
       "              predictor=None, random_state=None, ...)"
      ]
     },
     "execution_count": 6,
     "metadata": {},
     "output_type": "execute_result"
    }
   ],
   "source": [
    "eval_set = [(X_train, y_train), (X_test, y_test)]\n",
    "\n",
    "xgb_model.fit(\n",
    "    X_train,\n",
    "    y_train,\n",
    "    eval_set=eval_set,\n",
    "    verbose=False\n",
    ")\n"
   ]
  },
  {
   "cell_type": "code",
   "execution_count": 7,
   "metadata": {},
   "outputs": [
    {
     "name": "stdout",
     "output_type": "stream",
     "text": [
      "\n"
     ]
    }
   ],
   "source": [
    "\n",
    "result = xgb_model.evals_result()\n",
    "print()"
   ]
  },
  {
   "cell_type": "code",
   "execution_count": 8,
   "metadata": {},
   "outputs": [
    {
     "name": "stdout",
     "output_type": "stream",
     "text": [
      "Train accuracy:      99.72%\n",
      "Validation accuracy: 82.02%\n"
     ]
    }
   ],
   "source": [
    "pretune_train_accuracy, pretune_validation_accuracy = ut.eval_xgb_model(xgb_model, X_train, y_train, X_val, y_val, verbose=True)"
   ]
  },
  {
   "attachments": {},
   "cell_type": "markdown",
   "metadata": {},
   "source": [
    "Out pretuned model has a high train accuracy of 99.58%, while the validation accuracy is at 76.40%, indicating that the model is overfitting the training data. "
   ]
  },
  {
   "attachments": {},
   "cell_type": "markdown",
   "metadata": {},
   "source": [
    "## Fine tuning"
   ]
  },
  {
   "attachments": {},
   "cell_type": "markdown",
   "metadata": {},
   "source": [
    "To address the issue of overfitting and hopefully getting a better validation accuracy, we will fine tune our model by trying different values for the hyperparameters and finding the values that give the best score"
   ]
  },
  {
   "attachments": {},
   "cell_type": "markdown",
   "metadata": {},
   "source": [
    "### Choosing the right evaluation metric"
   ]
  },
  {
   "cell_type": "code",
   "execution_count": 9,
   "metadata": {},
   "outputs": [
    {
     "name": "stdout",
     "output_type": "stream",
     "text": [
      "              precision    recall  f1-score   support\n",
      "\n",
      "           0       0.78      0.91      0.84        46\n",
      "           1       0.89      0.72      0.79        43\n",
      "\n",
      "    accuracy                           0.82        89\n",
      "   macro avg       0.83      0.82      0.82        89\n",
      "weighted avg       0.83      0.82      0.82        89\n",
      "\n"
     ]
    },
    {
     "data": {
      "image/png": "[encoded data removed]",
      "text/plain": [
       "<Figure size 640x480 with 2 Axes>"
      ]
     },
     "metadata": {},
     "output_type": "display_data"
    }
   ],
   "source": [
    "# printing the classification report\n",
    "actual = y_val\n",
    "predicted = xgb_model.predict(X_val)\n",
    "print(metrics.classification_report(actual, predicted))\n",
    "confusion_matrix = metrics.confusion_matrix(actual, predicted)\n",
    "cm_display = metrics.ConfusionMatrixDisplay(confusion_matrix = confusion_matrix, display_labels = [False, True])\n",
    "cm_display.plot()\n",
    "plt.show()"
   ]
  },
  {
   "attachments": {},
   "cell_type": "markdown",
   "metadata": {},
   "source": [
    "Since positive and negative classes are quite balanced, and false positives are as important as false negatives we can use accuracy as the evaluation metric."
   ]
  },
  {
   "attachments": {},
   "cell_type": "markdown",
   "metadata": {},
   "source": [
    "### Searching for the best parameters"
   ]
  },
  {
   "attachments": {},
   "cell_type": "markdown",
   "metadata": {},
   "source": [
    "To find the best parameters for our model we will iterate over many possible values of a parameter while leaving the other parameters constant until we find the best value, then we will move to the next parameter"
   ]
  },
  {
   "cell_type": "code",
   "execution_count": 10,
   "metadata": {},
   "outputs": [],
   "source": [
    "num_values = 10\n",
    "\n",
    "paramsTuningValues = {\n",
    "    'learning_rate': np.linspace(0.01, 0.3, num_values),\n",
    "    'early_stopping_rounds': np.linspace(0, 100, num_values, dtype=int),\n",
    "    'max_depth': np.linspace(1, 10, num_values, dtype=int),\n",
    "    'subsample': np.linspace(0, 1, num_values),\n",
    "    'colsample_bytree': np.linspace(0, 1, num_values),\n",
    "    'colsample_bylevel': np.linspace(0, 1, num_values),\n",
    "    'colsample_bynode': np.linspace(0, 1, num_values),\n",
    "    'min_child_weight': np.linspace(0, 100, num_values),\n",
    "    'max_delta_step': np.linspace(0, 100, num_values),\n",
    "    'alpha': np.linspace(0, 100, num_values),\n",
    "    'lambda': np.linspace(0, 100, num_values),\n",
    "    'gamma': np.linspace(0, 100, num_values),\n",
    "    'scale_pos_weight': np.linspace(0, 1, num_values),\n",
    "}\n",
    "\n",
    "iterations = 0\n",
    "\n",
    "for _ in range(iterations):\n",
    "    for param in paramsTuningValues:\n",
    "      best_score, best_value, scores = ut.tune_xgb_model(\n",
    "          xgb_model, X_train, y_train, X_val, y_val, default_params, param, paramsTuningValues[param], 'logloss', plot=False,  overwriteParams=True)\n",
    "      print(f'Best {param}: {best_value}')\n"
   ]
  },
  {
   "cell_type": "code",
   "execution_count": 11,
   "metadata": {},
   "outputs": [],
   "source": [
    "params_tuning_ranges = {\n",
    "    'learning_rate': [0.01, 0.3],\n",
    "}\n",
    "\n",
    "\n",
    "def xgb_autotuner(xgb_model, X_train, y_train, X_val, y_val, default_params, tuning_ranges,\n",
    "                  iterations=5, num_values=10, eval_metric='logloss', plot=False, overwrite_params=False):\n",
    "\n",
    "  ranges = tuning_ranges.copy()\n",
    "  tuned_params = default_params.copy()\n",
    "  for _ in range(iterations):\n",
    "    # shrink the tuning ranges\n",
    "    # for param in params:\n",
    "    #   step = (ranges[param][1] - ranges[param][0])/num_values\n",
    "    #   ranges[param][0] = params[param] - step\n",
    "    #   ranges[param][1] = params[param] + step\n",
    "    #   if (ranges[param][0] < params_tuning_ranges[0]):\n",
    "    #     ranges[param][0] = params_tuning_ranges[0]\n",
    "    #   if (ranges[param][1] > params_tuning_ranges[1]):\n",
    "    #     ranges[param][1] = params_tuning_ranges[1]\n",
    "\n",
    "    for param in ranges:\n",
    "      values = np.linspace(ranges[param][0], ranges[param][1], num_values,\n",
    "                           dtype=type(ranges[param][0]))\n",
    "      ut.tune_xgb_model(xgb_model, X_train, y_train, X_val, y_val,\n",
    "                        tuned_params, param, values, eval_metric,\n",
    "                        plot, overwrite_params=True)\n",
    "  return tuned_params\n"
   ]
  },
  {
   "cell_type": "code",
   "execution_count": 17,
   "metadata": {},
   "outputs": [
    {
     "data": {
      "text/plain": [
       "{'random_state': 0,\n",
       " 'missing': nan,\n",
       " 'objective': 'binary:logistic',\n",
       " 'eval_metric': 'logloss',\n",
       " 'n_estimators': 1000,\n",
       " 'min_child_weight': 0,\n",
       " 'max_delta_step': 0,\n",
       " 'alpha': 0,\n",
       " 'lambda': 88,\n",
       " 'gamma': 0,\n",
       " 'scale_pos_weight': 1}"
      ]
     },
     "execution_count": 17,
     "metadata": {},
     "output_type": "execute_result"
    }
   ],
   "source": [
    "tuning_ranges = {\n",
    "    # 'learning_rate': [0.01, 0.3],\n",
    "    # 'early_stopping_rounds': [0, 100],\n",
    "    # 'max_depth': [1, 10],\n",
    "    # 'subsample': [0., 1.],\n",
    "    # 'colsample_bytree': [0., 1.],\n",
    "    # 'colsample_bylevel': [0., 1.],\n",
    "    # 'colsample_bynode': [0., 1.],\n",
    "    'min_child_weight': [0, 100],\n",
    "    'max_delta_step': [0, 100],\n",
    "    'alpha': [0, 100],\n",
    "    'lambda': [0, 100],\n",
    "    'gamma': [0, 100],\n",
    "    'scale_pos_weight': [0, 1],\n",
    "}\n",
    "\n",
    "xgb_autotuner(xgb_model, X_train, y_train, X_val, y_val, default_params, tuning_ranges,\n",
    "              iterations=1, num_values=10, eval_metric='logloss')\n"
   ]
  },
  {
   "cell_type": "code",
   "execution_count": null,
   "metadata": {},
   "outputs": [],
   "source": [
    "num_values = 10\n",
    "default_range = [0, 1]\n",
    "_range = default_range.copy()\n",
    "x = 0.04\n",
    "\n",
    "step = (_range[1] - _range[0])/num_values\n",
    "_range[0] = x - step\n",
    "_range[1] = x + step\n",
    "if (_range[0] < default_range[0]):\n",
    "    _range[0] = default_range[0]\n",
    "if (_range[1] > default_range[1]):\n",
    "    _range[1] = default_range[1]\n",
    "  \n",
    "print(_range)\n"
   ]
  },
  {
   "cell_type": "code",
   "execution_count": null,
   "metadata": {},
   "outputs": [],
   "source": [
    "print('Final params')\n",
    "default_params"
   ]
  },
  {
   "cell_type": "code",
   "execution_count": null,
   "metadata": {},
   "outputs": [],
   "source": [
    "xgb_model = xgb.XGBClassifier(**default_params)\n",
    "eval_set = [(X_train, y_train), (X_test, y_test)]\n",
    "xgb_model.fit(\n",
    "    X_train,\n",
    "    y_train,\n",
    "    eval_set=eval_set,\n",
    "    verbose=False\n",
    ")\n"
   ]
  },
  {
   "attachments": {},
   "cell_type": "markdown",
   "metadata": {},
   "source": [
    "### Evaluating the tuned model"
   ]
  },
  {
   "cell_type": "code",
   "execution_count": null,
   "metadata": {},
   "outputs": [],
   "source": [
    "tuned_train_accuracy, tuned_validation_accuracy = ut.eval_xgb_model(xgb_model, X_train, y_train, X_val, y_val, verbose=True)\n",
    "\n",
    "train_accuracy_gain = tuned_train_accuracy - pretune_train_accuracy\n",
    "validation_accuracy_gain = tuned_validation_accuracy - pretune_validation_accuracy\n",
    "\n",
    "print(f'Train accuracy gain:      {train_accuracy_gain:.2%}')\n",
    "print(f'Validation accuracy gain: {validation_accuracy_gain:.2%}')\n",
    "\n",
    "test_accuracy, _ = ut.eval_xgb_model(xgb_model, X_test, y_test, X_test, y_test, verbose=False)\n",
    "print(f'Test accuracy: {test_accuracy:.2%}')"
   ]
  },
  {
   "cell_type": "code",
   "execution_count": null,
   "metadata": {},
   "outputs": [],
   "source": [
    "# xgb.plot_importance(xgb_model)"
   ]
  }
 ],
 "metadata": {
  "kernelspec": {
   "display_name": "ai",
   "language": "python",
   "name": "python3"
  },
  "language_info": {
   "codemirror_mode": {
    "name": "ipython",
    "version": 3
   },
   "file_extension": ".py",
   "mimetype": "text/x-python",
   "name": "python",
   "nbconvert_exporter": "python",
   "pygments_lexer": "ipython3",
   "version": "3.9.16"
  },
  "orig_nbformat": 4
 },
 "nbformat": 4,
 "nbformat_minor": 2
}
