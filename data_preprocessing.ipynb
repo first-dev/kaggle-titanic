{
 "cells": [
  {
   "attachments": {},
   "cell_type": "markdown",
   "metadata": {},
   "source": [
    "# Preparing kaggle Titanic dataset"
   ]
  },
  {
   "attachments": {},
   "cell_type": "markdown",
   "metadata": {},
   "source": [
    "## Import necessary libraries"
   ]
  },
  {
   "cell_type": "code",
   "execution_count": 320,
   "metadata": {},
   "outputs": [],
   "source": [
    "import pandas as pd\n",
    "import numpy as np\n",
    "from sklearn.model_selection import train_test_split"
   ]
  },
  {
   "attachments": {},
   "cell_type": "markdown",
   "metadata": {},
   "source": [
    "## load the data"
   ]
  },
  {
   "cell_type": "code",
   "execution_count": 321,
   "metadata": {},
   "outputs": [],
   "source": [
    "raw_df = pd.read_csv('data/train.csv')\n",
    "df = raw_df.copy()"
   ]
  },
  {
   "cell_type": "code",
   "execution_count": 322,
   "metadata": {},
   "outputs": [
    {
     "name": "stdout",
     "output_type": "stream",
     "text": [
      "<class 'pandas.core.frame.DataFrame'>\n",
      "RangeIndex: 891 entries, 0 to 890\n",
      "Data columns (total 12 columns):\n",
      " #   Column       Non-Null Count  Dtype  \n",
      "---  ------       --------------  -----  \n",
      " 0   PassengerId  891 non-null    int64  \n",
      " 1   Survived     891 non-null    int64  \n",
      " 2   Pclass       891 non-null    int64  \n",
      " 3   Name         891 non-null    object \n",
      " 4   Sex          891 non-null    object \n",
      " 5   Age          714 non-null    float64\n",
      " 6   SibSp        891 non-null    int64  \n",
      " 7   Parch        891 non-null    int64  \n",
      " 8   Ticket       891 non-null    object \n",
      " 9   Fare         891 non-null    float64\n",
      " 10  Cabin        204 non-null    object \n",
      " 11  Embarked     889 non-null    object \n",
      "dtypes: float64(2), int64(5), object(5)\n",
      "memory usage: 83.7+ KB\n",
      "None\n"
     ]
    },
    {
     "data": {
      "text/html": [
       "<div>\n",
       "<style scoped>\n",
       "    .dataframe tbody tr th:only-of-type {\n",
       "        vertical-align: middle;\n",
       "    }\n",
       "\n",
       "    .dataframe tbody tr th {\n",
       "        vertical-align: top;\n",
       "    }\n",
       "\n",
       "    .dataframe thead th {\n",
       "        text-align: right;\n",
       "    }\n",
       "</style>\n",
       "<table border=\"1\" class=\"dataframe\">\n",
       "  <thead>\n",
       "    <tr style=\"text-align: right;\">\n",
       "      <th></th>\n",
       "      <th>PassengerId</th>\n",
       "      <th>Survived</th>\n",
       "      <th>Pclass</th>\n",
       "      <th>Age</th>\n",
       "      <th>SibSp</th>\n",
       "      <th>Parch</th>\n",
       "      <th>Fare</th>\n",
       "    </tr>\n",
       "  </thead>\n",
       "  <tbody>\n",
       "    <tr>\n",
       "      <th>count</th>\n",
       "      <td>891.000000</td>\n",
       "      <td>891.000000</td>\n",
       "      <td>891.000000</td>\n",
       "      <td>714.000000</td>\n",
       "      <td>891.000000</td>\n",
       "      <td>891.000000</td>\n",
       "      <td>891.000000</td>\n",
       "    </tr>\n",
       "    <tr>\n",
       "      <th>mean</th>\n",
       "      <td>446.000000</td>\n",
       "      <td>0.383838</td>\n",
       "      <td>2.308642</td>\n",
       "      <td>29.699118</td>\n",
       "      <td>0.523008</td>\n",
       "      <td>0.381594</td>\n",
       "      <td>32.204208</td>\n",
       "    </tr>\n",
       "    <tr>\n",
       "      <th>std</th>\n",
       "      <td>257.353842</td>\n",
       "      <td>0.486592</td>\n",
       "      <td>0.836071</td>\n",
       "      <td>14.526497</td>\n",
       "      <td>1.102743</td>\n",
       "      <td>0.806057</td>\n",
       "      <td>49.693429</td>\n",
       "    </tr>\n",
       "    <tr>\n",
       "      <th>min</th>\n",
       "      <td>1.000000</td>\n",
       "      <td>0.000000</td>\n",
       "      <td>1.000000</td>\n",
       "      <td>0.420000</td>\n",
       "      <td>0.000000</td>\n",
       "      <td>0.000000</td>\n",
       "      <td>0.000000</td>\n",
       "    </tr>\n",
       "    <tr>\n",
       "      <th>25%</th>\n",
       "      <td>223.500000</td>\n",
       "      <td>0.000000</td>\n",
       "      <td>2.000000</td>\n",
       "      <td>20.125000</td>\n",
       "      <td>0.000000</td>\n",
       "      <td>0.000000</td>\n",
       "      <td>7.910400</td>\n",
       "    </tr>\n",
       "    <tr>\n",
       "      <th>50%</th>\n",
       "      <td>446.000000</td>\n",
       "      <td>0.000000</td>\n",
       "      <td>3.000000</td>\n",
       "      <td>28.000000</td>\n",
       "      <td>0.000000</td>\n",
       "      <td>0.000000</td>\n",
       "      <td>14.454200</td>\n",
       "    </tr>\n",
       "    <tr>\n",
       "      <th>75%</th>\n",
       "      <td>668.500000</td>\n",
       "      <td>1.000000</td>\n",
       "      <td>3.000000</td>\n",
       "      <td>38.000000</td>\n",
       "      <td>1.000000</td>\n",
       "      <td>0.000000</td>\n",
       "      <td>31.000000</td>\n",
       "    </tr>\n",
       "    <tr>\n",
       "      <th>max</th>\n",
       "      <td>891.000000</td>\n",
       "      <td>1.000000</td>\n",
       "      <td>3.000000</td>\n",
       "      <td>80.000000</td>\n",
       "      <td>8.000000</td>\n",
       "      <td>6.000000</td>\n",
       "      <td>512.329200</td>\n",
       "    </tr>\n",
       "  </tbody>\n",
       "</table>\n",
       "</div>"
      ],
      "text/plain": [
       "       PassengerId    Survived      Pclass         Age       SibSp  \\\n",
       "count   891.000000  891.000000  891.000000  714.000000  891.000000   \n",
       "mean    446.000000    0.383838    2.308642   29.699118    0.523008   \n",
       "std     257.353842    0.486592    0.836071   14.526497    1.102743   \n",
       "min       1.000000    0.000000    1.000000    0.420000    0.000000   \n",
       "25%     223.500000    0.000000    2.000000   20.125000    0.000000   \n",
       "50%     446.000000    0.000000    3.000000   28.000000    0.000000   \n",
       "75%     668.500000    1.000000    3.000000   38.000000    1.000000   \n",
       "max     891.000000    1.000000    3.000000   80.000000    8.000000   \n",
       "\n",
       "            Parch        Fare  \n",
       "count  891.000000  891.000000  \n",
       "mean     0.381594   32.204208  \n",
       "std      0.806057   49.693429  \n",
       "min      0.000000    0.000000  \n",
       "25%      0.000000    7.910400  \n",
       "50%      0.000000   14.454200  \n",
       "75%      0.000000   31.000000  \n",
       "max      6.000000  512.329200  "
      ]
     },
     "execution_count": 322,
     "metadata": {},
     "output_type": "execute_result"
    }
   ],
   "source": [
    "print(df.info())\n",
    "df.describe()"
   ]
  },
  {
   "attachments": {},
   "cell_type": "markdown",
   "metadata": {},
   "source": [
    "Drop the features 'PassengerId' and 'Name' to make the data easier and more concise. (for now)"
   ]
  },
  {
   "cell_type": "code",
   "execution_count": 323,
   "metadata": {},
   "outputs": [],
   "source": [
    "df = df.drop(['PassengerId', 'Name'], axis=1)"
   ]
  },
  {
   "attachments": {},
   "cell_type": "markdown",
   "metadata": {},
   "source": [
    "_Note: We can potentially use the names of the passengers to infer their family relations, which might be useful for predicting their survival. For example if lot of passengers share the same last name, they might be family members and help each other to survive._"
   ]
  },
  {
   "attachments": {},
   "cell_type": "markdown",
   "metadata": {},
   "source": [
    "**Quick table visualization of the first 10 rows**"
   ]
  },
  {
   "cell_type": "code",
   "execution_count": 324,
   "metadata": {},
   "outputs": [
    {
     "data": {
      "text/html": [
       "<style type=\"text/css\">\n",
       "</style>\n",
       "<table id=\"T_fa277\">\n",
       "  <thead>\n",
       "    <tr>\n",
       "      <th class=\"blank level0\" >&nbsp;</th>\n",
       "      <th id=\"T_fa277_level0_col0\" class=\"col_heading level0 col0\" >Survived</th>\n",
       "      <th id=\"T_fa277_level0_col1\" class=\"col_heading level0 col1\" >Pclass</th>\n",
       "      <th id=\"T_fa277_level0_col2\" class=\"col_heading level0 col2\" >Sex</th>\n",
       "      <th id=\"T_fa277_level0_col3\" class=\"col_heading level0 col3\" >Age</th>\n",
       "      <th id=\"T_fa277_level0_col4\" class=\"col_heading level0 col4\" >SibSp</th>\n",
       "      <th id=\"T_fa277_level0_col5\" class=\"col_heading level0 col5\" >Parch</th>\n",
       "      <th id=\"T_fa277_level0_col6\" class=\"col_heading level0 col6\" >Ticket</th>\n",
       "      <th id=\"T_fa277_level0_col7\" class=\"col_heading level0 col7\" >Fare</th>\n",
       "      <th id=\"T_fa277_level0_col8\" class=\"col_heading level0 col8\" >Cabin</th>\n",
       "      <th id=\"T_fa277_level0_col9\" class=\"col_heading level0 col9\" >Embarked</th>\n",
       "    </tr>\n",
       "  </thead>\n",
       "  <tbody>\n",
       "    <tr>\n",
       "      <th id=\"T_fa277_level0_row0\" class=\"row_heading level0 row0\" >0</th>\n",
       "      <td id=\"T_fa277_row0_col0\" class=\"data row0 col0\" >0</td>\n",
       "      <td id=\"T_fa277_row0_col1\" class=\"data row0 col1\" >3</td>\n",
       "      <td id=\"T_fa277_row0_col2\" class=\"data row0 col2\" >male</td>\n",
       "      <td id=\"T_fa277_row0_col3\" class=\"data row0 col3\" >22.00</td>\n",
       "      <td id=\"T_fa277_row0_col4\" class=\"data row0 col4\" >1</td>\n",
       "      <td id=\"T_fa277_row0_col5\" class=\"data row0 col5\" >0</td>\n",
       "      <td id=\"T_fa277_row0_col6\" class=\"data row0 col6\" >A/5 21171</td>\n",
       "      <td id=\"T_fa277_row0_col7\" class=\"data row0 col7\" >7.25</td>\n",
       "      <td id=\"T_fa277_row0_col8\" class=\"data row0 col8\" >nan</td>\n",
       "      <td id=\"T_fa277_row0_col9\" class=\"data row0 col9\" >S</td>\n",
       "    </tr>\n",
       "    <tr>\n",
       "      <th id=\"T_fa277_level0_row1\" class=\"row_heading level0 row1\" >1</th>\n",
       "      <td id=\"T_fa277_row1_col0\" class=\"data row1 col0\" >1</td>\n",
       "      <td id=\"T_fa277_row1_col1\" class=\"data row1 col1\" >1</td>\n",
       "      <td id=\"T_fa277_row1_col2\" class=\"data row1 col2\" >female</td>\n",
       "      <td id=\"T_fa277_row1_col3\" class=\"data row1 col3\" >38.00</td>\n",
       "      <td id=\"T_fa277_row1_col4\" class=\"data row1 col4\" >1</td>\n",
       "      <td id=\"T_fa277_row1_col5\" class=\"data row1 col5\" >0</td>\n",
       "      <td id=\"T_fa277_row1_col6\" class=\"data row1 col6\" >PC 17599</td>\n",
       "      <td id=\"T_fa277_row1_col7\" class=\"data row1 col7\" >71.28</td>\n",
       "      <td id=\"T_fa277_row1_col8\" class=\"data row1 col8\" >C85</td>\n",
       "      <td id=\"T_fa277_row1_col9\" class=\"data row1 col9\" >C</td>\n",
       "    </tr>\n",
       "    <tr>\n",
       "      <th id=\"T_fa277_level0_row2\" class=\"row_heading level0 row2\" >2</th>\n",
       "      <td id=\"T_fa277_row2_col0\" class=\"data row2 col0\" >1</td>\n",
       "      <td id=\"T_fa277_row2_col1\" class=\"data row2 col1\" >3</td>\n",
       "      <td id=\"T_fa277_row2_col2\" class=\"data row2 col2\" >female</td>\n",
       "      <td id=\"T_fa277_row2_col3\" class=\"data row2 col3\" >26.00</td>\n",
       "      <td id=\"T_fa277_row2_col4\" class=\"data row2 col4\" >0</td>\n",
       "      <td id=\"T_fa277_row2_col5\" class=\"data row2 col5\" >0</td>\n",
       "      <td id=\"T_fa277_row2_col6\" class=\"data row2 col6\" >STON/O2. 3101282</td>\n",
       "      <td id=\"T_fa277_row2_col7\" class=\"data row2 col7\" >7.92</td>\n",
       "      <td id=\"T_fa277_row2_col8\" class=\"data row2 col8\" >nan</td>\n",
       "      <td id=\"T_fa277_row2_col9\" class=\"data row2 col9\" >S</td>\n",
       "    </tr>\n",
       "    <tr>\n",
       "      <th id=\"T_fa277_level0_row3\" class=\"row_heading level0 row3\" >3</th>\n",
       "      <td id=\"T_fa277_row3_col0\" class=\"data row3 col0\" >1</td>\n",
       "      <td id=\"T_fa277_row3_col1\" class=\"data row3 col1\" >1</td>\n",
       "      <td id=\"T_fa277_row3_col2\" class=\"data row3 col2\" >female</td>\n",
       "      <td id=\"T_fa277_row3_col3\" class=\"data row3 col3\" >35.00</td>\n",
       "      <td id=\"T_fa277_row3_col4\" class=\"data row3 col4\" >1</td>\n",
       "      <td id=\"T_fa277_row3_col5\" class=\"data row3 col5\" >0</td>\n",
       "      <td id=\"T_fa277_row3_col6\" class=\"data row3 col6\" >113803</td>\n",
       "      <td id=\"T_fa277_row3_col7\" class=\"data row3 col7\" >53.10</td>\n",
       "      <td id=\"T_fa277_row3_col8\" class=\"data row3 col8\" >C123</td>\n",
       "      <td id=\"T_fa277_row3_col9\" class=\"data row3 col9\" >S</td>\n",
       "    </tr>\n",
       "    <tr>\n",
       "      <th id=\"T_fa277_level0_row4\" class=\"row_heading level0 row4\" >4</th>\n",
       "      <td id=\"T_fa277_row4_col0\" class=\"data row4 col0\" >0</td>\n",
       "      <td id=\"T_fa277_row4_col1\" class=\"data row4 col1\" >3</td>\n",
       "      <td id=\"T_fa277_row4_col2\" class=\"data row4 col2\" >male</td>\n",
       "      <td id=\"T_fa277_row4_col3\" class=\"data row4 col3\" >35.00</td>\n",
       "      <td id=\"T_fa277_row4_col4\" class=\"data row4 col4\" >0</td>\n",
       "      <td id=\"T_fa277_row4_col5\" class=\"data row4 col5\" >0</td>\n",
       "      <td id=\"T_fa277_row4_col6\" class=\"data row4 col6\" >373450</td>\n",
       "      <td id=\"T_fa277_row4_col7\" class=\"data row4 col7\" >8.05</td>\n",
       "      <td id=\"T_fa277_row4_col8\" class=\"data row4 col8\" >nan</td>\n",
       "      <td id=\"T_fa277_row4_col9\" class=\"data row4 col9\" >S</td>\n",
       "    </tr>\n",
       "    <tr>\n",
       "      <th id=\"T_fa277_level0_row5\" class=\"row_heading level0 row5\" >5</th>\n",
       "      <td id=\"T_fa277_row5_col0\" class=\"data row5 col0\" >0</td>\n",
       "      <td id=\"T_fa277_row5_col1\" class=\"data row5 col1\" >3</td>\n",
       "      <td id=\"T_fa277_row5_col2\" class=\"data row5 col2\" >male</td>\n",
       "      <td id=\"T_fa277_row5_col3\" class=\"data row5 col3\" >nan</td>\n",
       "      <td id=\"T_fa277_row5_col4\" class=\"data row5 col4\" >0</td>\n",
       "      <td id=\"T_fa277_row5_col5\" class=\"data row5 col5\" >0</td>\n",
       "      <td id=\"T_fa277_row5_col6\" class=\"data row5 col6\" >330877</td>\n",
       "      <td id=\"T_fa277_row5_col7\" class=\"data row5 col7\" >8.46</td>\n",
       "      <td id=\"T_fa277_row5_col8\" class=\"data row5 col8\" >nan</td>\n",
       "      <td id=\"T_fa277_row5_col9\" class=\"data row5 col9\" >Q</td>\n",
       "    </tr>\n",
       "    <tr>\n",
       "      <th id=\"T_fa277_level0_row6\" class=\"row_heading level0 row6\" >6</th>\n",
       "      <td id=\"T_fa277_row6_col0\" class=\"data row6 col0\" >0</td>\n",
       "      <td id=\"T_fa277_row6_col1\" class=\"data row6 col1\" >1</td>\n",
       "      <td id=\"T_fa277_row6_col2\" class=\"data row6 col2\" >male</td>\n",
       "      <td id=\"T_fa277_row6_col3\" class=\"data row6 col3\" >54.00</td>\n",
       "      <td id=\"T_fa277_row6_col4\" class=\"data row6 col4\" >0</td>\n",
       "      <td id=\"T_fa277_row6_col5\" class=\"data row6 col5\" >0</td>\n",
       "      <td id=\"T_fa277_row6_col6\" class=\"data row6 col6\" >17463</td>\n",
       "      <td id=\"T_fa277_row6_col7\" class=\"data row6 col7\" >51.86</td>\n",
       "      <td id=\"T_fa277_row6_col8\" class=\"data row6 col8\" >E46</td>\n",
       "      <td id=\"T_fa277_row6_col9\" class=\"data row6 col9\" >S</td>\n",
       "    </tr>\n",
       "    <tr>\n",
       "      <th id=\"T_fa277_level0_row7\" class=\"row_heading level0 row7\" >7</th>\n",
       "      <td id=\"T_fa277_row7_col0\" class=\"data row7 col0\" >0</td>\n",
       "      <td id=\"T_fa277_row7_col1\" class=\"data row7 col1\" >3</td>\n",
       "      <td id=\"T_fa277_row7_col2\" class=\"data row7 col2\" >male</td>\n",
       "      <td id=\"T_fa277_row7_col3\" class=\"data row7 col3\" >2.00</td>\n",
       "      <td id=\"T_fa277_row7_col4\" class=\"data row7 col4\" >3</td>\n",
       "      <td id=\"T_fa277_row7_col5\" class=\"data row7 col5\" >1</td>\n",
       "      <td id=\"T_fa277_row7_col6\" class=\"data row7 col6\" >349909</td>\n",
       "      <td id=\"T_fa277_row7_col7\" class=\"data row7 col7\" >21.07</td>\n",
       "      <td id=\"T_fa277_row7_col8\" class=\"data row7 col8\" >nan</td>\n",
       "      <td id=\"T_fa277_row7_col9\" class=\"data row7 col9\" >S</td>\n",
       "    </tr>\n",
       "    <tr>\n",
       "      <th id=\"T_fa277_level0_row8\" class=\"row_heading level0 row8\" >8</th>\n",
       "      <td id=\"T_fa277_row8_col0\" class=\"data row8 col0\" >1</td>\n",
       "      <td id=\"T_fa277_row8_col1\" class=\"data row8 col1\" >3</td>\n",
       "      <td id=\"T_fa277_row8_col2\" class=\"data row8 col2\" >female</td>\n",
       "      <td id=\"T_fa277_row8_col3\" class=\"data row8 col3\" >27.00</td>\n",
       "      <td id=\"T_fa277_row8_col4\" class=\"data row8 col4\" >0</td>\n",
       "      <td id=\"T_fa277_row8_col5\" class=\"data row8 col5\" >2</td>\n",
       "      <td id=\"T_fa277_row8_col6\" class=\"data row8 col6\" >347742</td>\n",
       "      <td id=\"T_fa277_row8_col7\" class=\"data row8 col7\" >11.13</td>\n",
       "      <td id=\"T_fa277_row8_col8\" class=\"data row8 col8\" >nan</td>\n",
       "      <td id=\"T_fa277_row8_col9\" class=\"data row8 col9\" >S</td>\n",
       "    </tr>\n",
       "    <tr>\n",
       "      <th id=\"T_fa277_level0_row9\" class=\"row_heading level0 row9\" >9</th>\n",
       "      <td id=\"T_fa277_row9_col0\" class=\"data row9 col0\" >1</td>\n",
       "      <td id=\"T_fa277_row9_col1\" class=\"data row9 col1\" >2</td>\n",
       "      <td id=\"T_fa277_row9_col2\" class=\"data row9 col2\" >female</td>\n",
       "      <td id=\"T_fa277_row9_col3\" class=\"data row9 col3\" >14.00</td>\n",
       "      <td id=\"T_fa277_row9_col4\" class=\"data row9 col4\" >1</td>\n",
       "      <td id=\"T_fa277_row9_col5\" class=\"data row9 col5\" >0</td>\n",
       "      <td id=\"T_fa277_row9_col6\" class=\"data row9 col6\" >237736</td>\n",
       "      <td id=\"T_fa277_row9_col7\" class=\"data row9 col7\" >30.07</td>\n",
       "      <td id=\"T_fa277_row9_col8\" class=\"data row9 col8\" >nan</td>\n",
       "      <td id=\"T_fa277_row9_col9\" class=\"data row9 col9\" >C</td>\n",
       "    </tr>\n",
       "  </tbody>\n",
       "</table>\n"
      ],
      "text/plain": [
       "<pandas.io.formats.style.Styler at 0x26aca25b700>"
      ]
     },
     "execution_count": 324,
     "metadata": {},
     "output_type": "execute_result"
    }
   ],
   "source": [
    "df[:10].style.format(precision=2)"
   ]
  },
  {
   "attachments": {},
   "cell_type": "markdown",
   "metadata": {},
   "source": [
    "## Encoding categorical features"
   ]
  },
  {
   "attachments": {},
   "cell_type": "markdown",
   "metadata": {},
   "source": [
    "### Finding number of unique values for each categorical feature"
   ]
  },
  {
   "cell_type": "code",
   "execution_count": 325,
   "metadata": {},
   "outputs": [
    {
     "name": "stdout",
     "output_type": "stream",
     "text": [
      "Pclass: 3\n",
      "Sex: 2\n",
      "Cabin: 147\n",
      "Embarked: 3\n"
     ]
    }
   ],
   "source": [
    "categorical_features = ['Pclass', 'Sex', 'Cabin', 'Embarked']\n",
    "\n",
    "for feature in categorical_features:\n",
    "    print(f'{feature}: {df[feature].nunique()}')"
   ]
  },
  {
   "attachments": {},
   "cell_type": "markdown",
   "metadata": {},
   "source": [
    "### Preparing Cabin feature"
   ]
  },
  {
   "attachments": {},
   "cell_type": "markdown",
   "metadata": {},
   "source": [
    "Cabin is a categorical feature, but it has too many unique values."
   ]
  },
  {
   "cell_type": "code",
   "execution_count": 326,
   "metadata": {},
   "outputs": [
    {
     "name": "stdout",
     "output_type": "stream",
     "text": [
      "Number of unique values for Cabin: 147\n",
      "['C85' 'C123' 'E46' 'G6' 'C103' 'D56' 'A6' 'C23 C25 C27' 'B78' 'D33' 'B30'\n",
      " 'C52' 'B28' 'C83' 'F33' 'F G73' 'E31' 'A5' 'D10 D12' 'D26' 'C110'\n",
      " 'B58 B60' 'E101' 'F E69' 'D47' 'B86' 'F2' 'C2' 'E33' 'B19' 'A7' 'C49'\n",
      " 'F4' 'A32' 'B4' 'B80' 'A31' 'D36' 'D15' 'C93' 'C78' 'D35' 'C87' 'B77'\n",
      " 'E67' 'B94' 'C125' 'C99' 'C118' 'D7' 'A19' 'B49' 'D' 'C22 C26' 'C106'\n",
      " 'C65' 'E36' 'C54' 'B57 B59 B63 B66' 'C7' 'E34' 'C32' 'B18' 'C124' 'C91'\n",
      " 'E40' 'T' 'C128' 'D37' 'B35' 'E50' 'C82' 'B96 B98' 'E10' 'E44' 'A34'\n",
      " 'C104' 'C111' 'C92' 'E38' 'D21' 'E12' 'E63' 'A14' 'B37' 'C30' 'D20' 'B79'\n",
      " 'E25' 'D46' 'B73' 'C95' 'B38' 'B39' 'B22' 'C86' 'C70' 'A16' 'C101' 'C68'\n",
      " 'A10' 'E68' 'B41' 'A20' 'D19' 'D50' 'D9' 'A23' 'B50' 'A26' 'D48' 'E58'\n",
      " 'C126' 'B71' 'B51 B53 B55' 'D49' 'B5' 'B20' 'F G63' 'C62 C64' 'E24' 'C90'\n",
      " 'C45' 'E8' 'B101' 'D45' 'C46' 'D30' 'E121' 'D11' 'E77' 'F38' 'B3' 'D6'\n",
      " 'B82 B84' 'D17' 'A36' 'B102' 'B69' 'E49' 'C47' 'D28' 'E17' 'A24' 'C50'\n",
      " 'B42' 'C148']\n"
     ]
    }
   ],
   "source": [
    "cabin_unique = df['Cabin'].dropna().unique()\n",
    "print(f'Number of unique values for Cabin: {len(cabin_unique)}')\n",
    "print(cabin_unique)"
   ]
  },
  {
   "attachments": {},
   "cell_type": "markdown",
   "metadata": {},
   "source": [
    "To reduce the number of unique values in Cabin, we can split the cabin number into two parts:\n",
    "* The first letter is the deck of the cabin, which is a **categorical feature**. \n",
    "* The number is the room number, which is a **numerical feature**.\n",
    "\n",
    "Also some cabins have multiple rooms, so we will only use the first room number.\n",
    "\n",
    "For example the cabin number 'C85' will be split into: deck 'C' ,room '85'.\n",
    "\n",
    "*One way to think about it is that the deck is the z coordinate since decks are stacked on top of each other, and the room number is the x coordinate since rooms are arranged horizontally.*"
   ]
  },
  {
   "cell_type": "code",
   "execution_count": 327,
   "metadata": {},
   "outputs": [
    {
     "data": {
      "text/html": [
       "<style type=\"text/css\">\n",
       "</style>\n",
       "<table id=\"T_79588\">\n",
       "  <thead>\n",
       "    <tr>\n",
       "      <th class=\"blank level0\" >&nbsp;</th>\n",
       "      <th id=\"T_79588_level0_col0\" class=\"col_heading level0 col0\" >Survived</th>\n",
       "      <th id=\"T_79588_level0_col1\" class=\"col_heading level0 col1\" >Pclass</th>\n",
       "      <th id=\"T_79588_level0_col2\" class=\"col_heading level0 col2\" >Sex</th>\n",
       "      <th id=\"T_79588_level0_col3\" class=\"col_heading level0 col3\" >Age</th>\n",
       "      <th id=\"T_79588_level0_col4\" class=\"col_heading level0 col4\" >SibSp</th>\n",
       "      <th id=\"T_79588_level0_col5\" class=\"col_heading level0 col5\" >Parch</th>\n",
       "      <th id=\"T_79588_level0_col6\" class=\"col_heading level0 col6\" >Ticket</th>\n",
       "      <th id=\"T_79588_level0_col7\" class=\"col_heading level0 col7\" >Fare</th>\n",
       "      <th id=\"T_79588_level0_col8\" class=\"col_heading level0 col8\" >Embarked</th>\n",
       "      <th id=\"T_79588_level0_col9\" class=\"col_heading level0 col9\" >Deck</th>\n",
       "      <th id=\"T_79588_level0_col10\" class=\"col_heading level0 col10\" >Room</th>\n",
       "    </tr>\n",
       "  </thead>\n",
       "  <tbody>\n",
       "    <tr>\n",
       "      <th id=\"T_79588_level0_row0\" class=\"row_heading level0 row0\" >0</th>\n",
       "      <td id=\"T_79588_row0_col0\" class=\"data row0 col0\" >0</td>\n",
       "      <td id=\"T_79588_row0_col1\" class=\"data row0 col1\" >3</td>\n",
       "      <td id=\"T_79588_row0_col2\" class=\"data row0 col2\" >male</td>\n",
       "      <td id=\"T_79588_row0_col3\" class=\"data row0 col3\" >22.00</td>\n",
       "      <td id=\"T_79588_row0_col4\" class=\"data row0 col4\" >1</td>\n",
       "      <td id=\"T_79588_row0_col5\" class=\"data row0 col5\" >0</td>\n",
       "      <td id=\"T_79588_row0_col6\" class=\"data row0 col6\" >A/5 21171</td>\n",
       "      <td id=\"T_79588_row0_col7\" class=\"data row0 col7\" >7.25</td>\n",
       "      <td id=\"T_79588_row0_col8\" class=\"data row0 col8\" >S</td>\n",
       "      <td id=\"T_79588_row0_col9\" class=\"data row0 col9\" >nan</td>\n",
       "      <td id=\"T_79588_row0_col10\" class=\"data row0 col10\" >nan</td>\n",
       "    </tr>\n",
       "    <tr>\n",
       "      <th id=\"T_79588_level0_row1\" class=\"row_heading level0 row1\" >1</th>\n",
       "      <td id=\"T_79588_row1_col0\" class=\"data row1 col0\" >1</td>\n",
       "      <td id=\"T_79588_row1_col1\" class=\"data row1 col1\" >1</td>\n",
       "      <td id=\"T_79588_row1_col2\" class=\"data row1 col2\" >female</td>\n",
       "      <td id=\"T_79588_row1_col3\" class=\"data row1 col3\" >38.00</td>\n",
       "      <td id=\"T_79588_row1_col4\" class=\"data row1 col4\" >1</td>\n",
       "      <td id=\"T_79588_row1_col5\" class=\"data row1 col5\" >0</td>\n",
       "      <td id=\"T_79588_row1_col6\" class=\"data row1 col6\" >PC 17599</td>\n",
       "      <td id=\"T_79588_row1_col7\" class=\"data row1 col7\" >71.28</td>\n",
       "      <td id=\"T_79588_row1_col8\" class=\"data row1 col8\" >C</td>\n",
       "      <td id=\"T_79588_row1_col9\" class=\"data row1 col9\" >C</td>\n",
       "      <td id=\"T_79588_row1_col10\" class=\"data row1 col10\" >85.00</td>\n",
       "    </tr>\n",
       "    <tr>\n",
       "      <th id=\"T_79588_level0_row2\" class=\"row_heading level0 row2\" >2</th>\n",
       "      <td id=\"T_79588_row2_col0\" class=\"data row2 col0\" >1</td>\n",
       "      <td id=\"T_79588_row2_col1\" class=\"data row2 col1\" >3</td>\n",
       "      <td id=\"T_79588_row2_col2\" class=\"data row2 col2\" >female</td>\n",
       "      <td id=\"T_79588_row2_col3\" class=\"data row2 col3\" >26.00</td>\n",
       "      <td id=\"T_79588_row2_col4\" class=\"data row2 col4\" >0</td>\n",
       "      <td id=\"T_79588_row2_col5\" class=\"data row2 col5\" >0</td>\n",
       "      <td id=\"T_79588_row2_col6\" class=\"data row2 col6\" >STON/O2. 3101282</td>\n",
       "      <td id=\"T_79588_row2_col7\" class=\"data row2 col7\" >7.92</td>\n",
       "      <td id=\"T_79588_row2_col8\" class=\"data row2 col8\" >S</td>\n",
       "      <td id=\"T_79588_row2_col9\" class=\"data row2 col9\" >nan</td>\n",
       "      <td id=\"T_79588_row2_col10\" class=\"data row2 col10\" >nan</td>\n",
       "    </tr>\n",
       "    <tr>\n",
       "      <th id=\"T_79588_level0_row3\" class=\"row_heading level0 row3\" >3</th>\n",
       "      <td id=\"T_79588_row3_col0\" class=\"data row3 col0\" >1</td>\n",
       "      <td id=\"T_79588_row3_col1\" class=\"data row3 col1\" >1</td>\n",
       "      <td id=\"T_79588_row3_col2\" class=\"data row3 col2\" >female</td>\n",
       "      <td id=\"T_79588_row3_col3\" class=\"data row3 col3\" >35.00</td>\n",
       "      <td id=\"T_79588_row3_col4\" class=\"data row3 col4\" >1</td>\n",
       "      <td id=\"T_79588_row3_col5\" class=\"data row3 col5\" >0</td>\n",
       "      <td id=\"T_79588_row3_col6\" class=\"data row3 col6\" >113803</td>\n",
       "      <td id=\"T_79588_row3_col7\" class=\"data row3 col7\" >53.10</td>\n",
       "      <td id=\"T_79588_row3_col8\" class=\"data row3 col8\" >S</td>\n",
       "      <td id=\"T_79588_row3_col9\" class=\"data row3 col9\" >C</td>\n",
       "      <td id=\"T_79588_row3_col10\" class=\"data row3 col10\" >123.00</td>\n",
       "    </tr>\n",
       "    <tr>\n",
       "      <th id=\"T_79588_level0_row4\" class=\"row_heading level0 row4\" >4</th>\n",
       "      <td id=\"T_79588_row4_col0\" class=\"data row4 col0\" >0</td>\n",
       "      <td id=\"T_79588_row4_col1\" class=\"data row4 col1\" >3</td>\n",
       "      <td id=\"T_79588_row4_col2\" class=\"data row4 col2\" >male</td>\n",
       "      <td id=\"T_79588_row4_col3\" class=\"data row4 col3\" >35.00</td>\n",
       "      <td id=\"T_79588_row4_col4\" class=\"data row4 col4\" >0</td>\n",
       "      <td id=\"T_79588_row4_col5\" class=\"data row4 col5\" >0</td>\n",
       "      <td id=\"T_79588_row4_col6\" class=\"data row4 col6\" >373450</td>\n",
       "      <td id=\"T_79588_row4_col7\" class=\"data row4 col7\" >8.05</td>\n",
       "      <td id=\"T_79588_row4_col8\" class=\"data row4 col8\" >S</td>\n",
       "      <td id=\"T_79588_row4_col9\" class=\"data row4 col9\" >nan</td>\n",
       "      <td id=\"T_79588_row4_col10\" class=\"data row4 col10\" >nan</td>\n",
       "    </tr>\n",
       "  </tbody>\n",
       "</table>\n"
      ],
      "text/plain": [
       "<pandas.io.formats.style.Styler at 0x26aca222040>"
      ]
     },
     "execution_count": 327,
     "metadata": {},
     "output_type": "execute_result"
    }
   ],
   "source": [
    "# chose only first cabin if there are multiple\n",
    "df['Cabin'] = df['Cabin'].apply(lambda s: s.split(' ')[0] if pd.notnull(s) else np.nan)\n",
    "\n",
    "# extract deck and room from cabin\n",
    "df['Deck'] = df['Cabin'].apply(lambda s: s[0] if pd.notnull(s) else np.nan)\n",
    "df['Room'] = df['Cabin'].apply(lambda s: int(s[1:]) if pd.notnull(s) and s[1:] != '' else np.nan)\n",
    "\n",
    "# drop cabin since its no longer needed\n",
    "df = df.drop('Cabin', axis=1)\n",
    "\n",
    "# visualize the first 5 rows\n",
    "df[:5].style.format(precision=2)"
   ]
  },
  {
   "attachments": {},
   "cell_type": "markdown",
   "metadata": {},
   "source": [
    "Verifying the new features."
   ]
  },
  {
   "cell_type": "code",
   "execution_count": 328,
   "metadata": {},
   "outputs": [
    {
     "name": "stdout",
     "output_type": "stream",
     "text": [
      "Number of unique values for Deck: 8\n",
      "['C' 'E' 'G' 'D' 'A' 'B' 'F' 'T']\n",
      "\n",
      "Room max: 148.0\n",
      "Room min: 2.0\n"
     ]
    }
   ],
   "source": [
    "deck_unique = df['Deck'].dropna().unique()\n",
    "print(f'Number of unique values for Deck: {len(deck_unique)}')\n",
    "print(deck_unique)\n",
    "print()\n",
    "\n",
    "room_max = df['Room'].max()\n",
    "room_min = df['Room'].min()\n",
    "print(f'Room max: {room_max}')\n",
    "print(f'Room min: {room_min}')"
   ]
  },
  {
   "attachments": {},
   "cell_type": "markdown",
   "metadata": {},
   "source": [
    "### Preparing Ticket feature"
   ]
  },
  {
   "cell_type": "code",
   "execution_count": 329,
   "metadata": {},
   "outputs": [
    {
     "data": {
      "text/html": [
       "<div>\n",
       "<style scoped>\n",
       "    .dataframe tbody tr th:only-of-type {\n",
       "        vertical-align: middle;\n",
       "    }\n",
       "\n",
       "    .dataframe tbody tr th {\n",
       "        vertical-align: top;\n",
       "    }\n",
       "\n",
       "    .dataframe thead th {\n",
       "        text-align: right;\n",
       "    }\n",
       "</style>\n",
       "<table border=\"1\" class=\"dataframe\">\n",
       "  <thead>\n",
       "    <tr style=\"text-align: right;\">\n",
       "      <th></th>\n",
       "      <th>Ticket</th>\n",
       "    </tr>\n",
       "  </thead>\n",
       "  <tbody>\n",
       "    <tr>\n",
       "      <th>0</th>\n",
       "      <td>A/5 21171</td>\n",
       "    </tr>\n",
       "    <tr>\n",
       "      <th>1</th>\n",
       "      <td>PC 17599</td>\n",
       "    </tr>\n",
       "    <tr>\n",
       "      <th>2</th>\n",
       "      <td>STON/O2. 3101282</td>\n",
       "    </tr>\n",
       "    <tr>\n",
       "      <th>3</th>\n",
       "      <td>113803</td>\n",
       "    </tr>\n",
       "    <tr>\n",
       "      <th>4</th>\n",
       "      <td>373450</td>\n",
       "    </tr>\n",
       "  </tbody>\n",
       "</table>\n",
       "</div>"
      ],
      "text/plain": [
       "             Ticket\n",
       "0         A/5 21171\n",
       "1          PC 17599\n",
       "2  STON/O2. 3101282\n",
       "3            113803\n",
       "4            373450"
      ]
     },
     "execution_count": 329,
     "metadata": {},
     "output_type": "execute_result"
    }
   ],
   "source": [
    "df[['Ticket']][:5]"
   ]
  },
  {
   "attachments": {},
   "cell_type": "markdown",
   "metadata": {},
   "source": [
    "The feature Ticket can be used as numerical feature if we extract the ticket number from it.\n",
    "\n",
    "This might help in indicating the booking order of the passengers."
   ]
  },
  {
   "cell_type": "code",
   "execution_count": 330,
   "metadata": {},
   "outputs": [
    {
     "data": {
      "text/html": [
       "<div>\n",
       "<style scoped>\n",
       "    .dataframe tbody tr th:only-of-type {\n",
       "        vertical-align: middle;\n",
       "    }\n",
       "\n",
       "    .dataframe tbody tr th {\n",
       "        vertical-align: top;\n",
       "    }\n",
       "\n",
       "    .dataframe thead th {\n",
       "        text-align: right;\n",
       "    }\n",
       "</style>\n",
       "<table border=\"1\" class=\"dataframe\">\n",
       "  <thead>\n",
       "    <tr style=\"text-align: right;\">\n",
       "      <th></th>\n",
       "      <th>Ticket</th>\n",
       "    </tr>\n",
       "  </thead>\n",
       "  <tbody>\n",
       "    <tr>\n",
       "      <th>0</th>\n",
       "      <td>21171</td>\n",
       "    </tr>\n",
       "    <tr>\n",
       "      <th>1</th>\n",
       "      <td>17599</td>\n",
       "    </tr>\n",
       "    <tr>\n",
       "      <th>2</th>\n",
       "      <td>3101282</td>\n",
       "    </tr>\n",
       "    <tr>\n",
       "      <th>3</th>\n",
       "      <td>113803</td>\n",
       "    </tr>\n",
       "    <tr>\n",
       "      <th>4</th>\n",
       "      <td>373450</td>\n",
       "    </tr>\n",
       "  </tbody>\n",
       "</table>\n",
       "</div>"
      ],
      "text/plain": [
       "    Ticket\n",
       "0    21171\n",
       "1    17599\n",
       "2  3101282\n",
       "3   113803\n",
       "4   373450"
      ]
     },
     "execution_count": 330,
     "metadata": {},
     "output_type": "execute_result"
    }
   ],
   "source": [
    "df['Ticket'] = df['Ticket'].map(lambda s:s.split(' ')[-1])\n",
    "df[['Ticket']][:5]"
   ]
  },
  {
   "cell_type": "code",
   "execution_count": 331,
   "metadata": {},
   "outputs": [
    {
     "name": "stdout",
     "output_type": "stream",
     "text": [
      "<class 'pandas.core.series.Series'>\n",
      "RangeIndex: 891 entries, 0 to 890\n",
      "Series name: Ticket\n",
      "Non-Null Count  Dtype \n",
      "--------------  ----- \n",
      "891 non-null    object\n",
      "dtypes: object(1)\n",
      "memory usage: 7.1+ KB\n"
     ]
    }
   ],
   "source": [
    "# show type of ticket column\n",
    "df['Ticket'].info()"
   ]
  },
  {
   "attachments": {},
   "cell_type": "markdown",
   "metadata": {},
   "source": [
    "Seems like some tickets have a numerical prefix, and some don't, which led to some values being of type object"
   ]
  },
  {
   "cell_type": "code",
   "execution_count": 332,
   "metadata": {},
   "outputs": [
    {
     "data": {
      "text/html": [
       "<div>\n",
       "<style scoped>\n",
       "    .dataframe tbody tr th:only-of-type {\n",
       "        vertical-align: middle;\n",
       "    }\n",
       "\n",
       "    .dataframe tbody tr th {\n",
       "        vertical-align: top;\n",
       "    }\n",
       "\n",
       "    .dataframe thead th {\n",
       "        text-align: right;\n",
       "    }\n",
       "</style>\n",
       "<table border=\"1\" class=\"dataframe\">\n",
       "  <thead>\n",
       "    <tr style=\"text-align: right;\">\n",
       "      <th></th>\n",
       "      <th>Ticket</th>\n",
       "    </tr>\n",
       "  </thead>\n",
       "  <tbody>\n",
       "    <tr>\n",
       "      <th>179</th>\n",
       "      <td>LINE</td>\n",
       "    </tr>\n",
       "    <tr>\n",
       "      <th>271</th>\n",
       "      <td>LINE</td>\n",
       "    </tr>\n",
       "    <tr>\n",
       "      <th>302</th>\n",
       "      <td>LINE</td>\n",
       "    </tr>\n",
       "    <tr>\n",
       "      <th>597</th>\n",
       "      <td>LINE</td>\n",
       "    </tr>\n",
       "  </tbody>\n",
       "</table>\n",
       "</div>"
      ],
      "text/plain": [
       "    Ticket\n",
       "179   LINE\n",
       "271   LINE\n",
       "302   LINE\n",
       "597   LINE"
      ]
     },
     "execution_count": 332,
     "metadata": {},
     "output_type": "execute_result"
    }
   ],
   "source": [
    "# show only non numeric tickets\n",
    "df[df['Ticket'].str.isnumeric() == False][['Ticket']]"
   ]
  },
  {
   "attachments": {},
   "cell_type": "markdown",
   "metadata": {},
   "source": [
    "Since there are only few tickets that don't have a numerical prefix, we can just replace them with nan."
   ]
  },
  {
   "cell_type": "code",
   "execution_count": 333,
   "metadata": {},
   "outputs": [],
   "source": [
    "# replace all non numeric tickets with nan\n",
    "df['Ticket'] = df['Ticket'].apply(lambda s: s if s.isnumeric() else np.nan)\n",
    "# convert ticket to numeric\n",
    "df['Ticket'] = pd.to_numeric(df['Ticket'])"
   ]
  },
  {
   "cell_type": "code",
   "execution_count": 334,
   "metadata": {},
   "outputs": [
    {
     "name": "stdout",
     "output_type": "stream",
     "text": [
      "<class 'pandas.core.series.Series'>\n",
      "RangeIndex: 891 entries, 0 to 890\n",
      "Series name: Ticket\n",
      "Non-Null Count  Dtype  \n",
      "--------------  -----  \n",
      "887 non-null    float64\n",
      "dtypes: float64(1)\n",
      "memory usage: 7.1 KB\n"
     ]
    }
   ],
   "source": [
    "# show type of ticket column\n",
    "df['Ticket'].info()"
   ]
  },
  {
   "attachments": {},
   "cell_type": "markdown",
   "metadata": {},
   "source": [
    "Now the type of Ticket is float, "
   ]
  },
  {
   "attachments": {},
   "cell_type": "markdown",
   "metadata": {},
   "source": [
    "### Hot-one encoding categorical features"
   ]
  },
  {
   "attachments": {},
   "cell_type": "markdown",
   "metadata": {},
   "source": [
    "After reducing the number of unique values for Cabin, we can now use hot one encoding to encode all categorical features."
   ]
  },
  {
   "cell_type": "code",
   "execution_count": 335,
   "metadata": {},
   "outputs": [],
   "source": [
    "# update new categorical features after processing Cabin\n",
    "categorical_features.remove('Cabin')\n",
    "categorical_features.append('Deck')\n",
    "\n",
    "# transform Pclass to string to be treated as categorical feature\n",
    "df['Pclass'] = df['Pclass'].astype(str)\n",
    "\n",
    "# hot-one encoding all categorical features\n",
    "dummies = pd.get_dummies(df[categorical_features])\n",
    "\n",
    "# drop the original categorical features\n",
    "df = df.drop(categorical_features, axis=1)\n",
    "\n",
    "# add the new hot-one encoded features\n",
    "df = pd.concat([df, dummies], axis=1)"
   ]
  },
  {
   "attachments": {},
   "cell_type": "markdown",
   "metadata": {},
   "source": [
    "### Final result"
   ]
  },
  {
   "cell_type": "code",
   "execution_count": 336,
   "metadata": {},
   "outputs": [
    {
     "name": "stdout",
     "output_type": "stream",
     "text": [
      "<class 'pandas.core.frame.DataFrame'>\n",
      "RangeIndex: 891 entries, 0 to 890\n",
      "Data columns (total 23 columns):\n",
      " #   Column      Non-Null Count  Dtype  \n",
      "---  ------      --------------  -----  \n",
      " 0   Survived    891 non-null    int64  \n",
      " 1   Age         714 non-null    float64\n",
      " 2   SibSp       891 non-null    int64  \n",
      " 3   Parch       891 non-null    int64  \n",
      " 4   Ticket      887 non-null    float64\n",
      " 5   Fare        891 non-null    float64\n",
      " 6   Room        196 non-null    float64\n",
      " 7   Pclass_1    891 non-null    uint8  \n",
      " 8   Pclass_2    891 non-null    uint8  \n",
      " 9   Pclass_3    891 non-null    uint8  \n",
      " 10  Sex_female  891 non-null    uint8  \n",
      " 11  Sex_male    891 non-null    uint8  \n",
      " 12  Embarked_C  891 non-null    uint8  \n",
      " 13  Embarked_Q  891 non-null    uint8  \n",
      " 14  Embarked_S  891 non-null    uint8  \n",
      " 15  Deck_A      891 non-null    uint8  \n",
      " 16  Deck_B      891 non-null    uint8  \n",
      " 17  Deck_C      891 non-null    uint8  \n",
      " 18  Deck_D      891 non-null    uint8  \n",
      " 19  Deck_E      891 non-null    uint8  \n",
      " 20  Deck_F      891 non-null    uint8  \n",
      " 21  Deck_G      891 non-null    uint8  \n",
      " 22  Deck_T      891 non-null    uint8  \n",
      "dtypes: float64(4), int64(3), uint8(16)\n",
      "memory usage: 62.8 KB\n"
     ]
    }
   ],
   "source": [
    "# visualize the first 5 rows\n",
    "df[:5].style.format(precision=2)\n",
    "df.info()"
   ]
  },
  {
   "attachments": {},
   "cell_type": "markdown",
   "metadata": {},
   "source": [
    "## Pack all the preprocessing steps into a function"
   ]
  },
  {
   "attachments": {},
   "cell_type": "markdown",
   "metadata": {},
   "source": [
    "To make it easier to preprocess the test data, we will pack all the preprocessing steps into a function."
   ]
  },
  {
   "cell_type": "code",
   "execution_count": 337,
   "metadata": {},
   "outputs": [],
   "source": [
    "from utils import preprocess_data"
   ]
  },
  {
   "attachments": {},
   "cell_type": "markdown",
   "metadata": {},
   "source": [
    "Testing the function on the same dataset as before."
   ]
  },
  {
   "cell_type": "code",
   "execution_count": 338,
   "metadata": {},
   "outputs": [
    {
     "data": {
      "text/html": [
       "<style type=\"text/css\">\n",
       "</style>\n",
       "<table id=\"T_5c035\">\n",
       "  <thead>\n",
       "    <tr>\n",
       "      <th class=\"blank level0\" >&nbsp;</th>\n",
       "      <th id=\"T_5c035_level0_col0\" class=\"col_heading level0 col0\" >Survived</th>\n",
       "      <th id=\"T_5c035_level0_col1\" class=\"col_heading level0 col1\" >Age</th>\n",
       "      <th id=\"T_5c035_level0_col2\" class=\"col_heading level0 col2\" >SibSp</th>\n",
       "      <th id=\"T_5c035_level0_col3\" class=\"col_heading level0 col3\" >Parch</th>\n",
       "      <th id=\"T_5c035_level0_col4\" class=\"col_heading level0 col4\" >Ticket</th>\n",
       "      <th id=\"T_5c035_level0_col5\" class=\"col_heading level0 col5\" >Fare</th>\n",
       "      <th id=\"T_5c035_level0_col6\" class=\"col_heading level0 col6\" >Room</th>\n",
       "      <th id=\"T_5c035_level0_col7\" class=\"col_heading level0 col7\" >Pclass_1</th>\n",
       "      <th id=\"T_5c035_level0_col8\" class=\"col_heading level0 col8\" >Pclass_2</th>\n",
       "      <th id=\"T_5c035_level0_col9\" class=\"col_heading level0 col9\" >Pclass_3</th>\n",
       "      <th id=\"T_5c035_level0_col10\" class=\"col_heading level0 col10\" >Sex_female</th>\n",
       "      <th id=\"T_5c035_level0_col11\" class=\"col_heading level0 col11\" >Sex_male</th>\n",
       "      <th id=\"T_5c035_level0_col12\" class=\"col_heading level0 col12\" >Embarked_C</th>\n",
       "      <th id=\"T_5c035_level0_col13\" class=\"col_heading level0 col13\" >Embarked_Q</th>\n",
       "      <th id=\"T_5c035_level0_col14\" class=\"col_heading level0 col14\" >Embarked_S</th>\n",
       "      <th id=\"T_5c035_level0_col15\" class=\"col_heading level0 col15\" >Deck_A</th>\n",
       "      <th id=\"T_5c035_level0_col16\" class=\"col_heading level0 col16\" >Deck_B</th>\n",
       "      <th id=\"T_5c035_level0_col17\" class=\"col_heading level0 col17\" >Deck_C</th>\n",
       "      <th id=\"T_5c035_level0_col18\" class=\"col_heading level0 col18\" >Deck_D</th>\n",
       "      <th id=\"T_5c035_level0_col19\" class=\"col_heading level0 col19\" >Deck_E</th>\n",
       "      <th id=\"T_5c035_level0_col20\" class=\"col_heading level0 col20\" >Deck_F</th>\n",
       "      <th id=\"T_5c035_level0_col21\" class=\"col_heading level0 col21\" >Deck_G</th>\n",
       "      <th id=\"T_5c035_level0_col22\" class=\"col_heading level0 col22\" >Deck_T</th>\n",
       "    </tr>\n",
       "  </thead>\n",
       "  <tbody>\n",
       "    <tr>\n",
       "      <th id=\"T_5c035_level0_row0\" class=\"row_heading level0 row0\" >0</th>\n",
       "      <td id=\"T_5c035_row0_col0\" class=\"data row0 col0\" >0</td>\n",
       "      <td id=\"T_5c035_row0_col1\" class=\"data row0 col1\" >22.00</td>\n",
       "      <td id=\"T_5c035_row0_col2\" class=\"data row0 col2\" >1</td>\n",
       "      <td id=\"T_5c035_row0_col3\" class=\"data row0 col3\" >0</td>\n",
       "      <td id=\"T_5c035_row0_col4\" class=\"data row0 col4\" >21171</td>\n",
       "      <td id=\"T_5c035_row0_col5\" class=\"data row0 col5\" >7.25</td>\n",
       "      <td id=\"T_5c035_row0_col6\" class=\"data row0 col6\" >nan</td>\n",
       "      <td id=\"T_5c035_row0_col7\" class=\"data row0 col7\" >0</td>\n",
       "      <td id=\"T_5c035_row0_col8\" class=\"data row0 col8\" >0</td>\n",
       "      <td id=\"T_5c035_row0_col9\" class=\"data row0 col9\" >1</td>\n",
       "      <td id=\"T_5c035_row0_col10\" class=\"data row0 col10\" >0</td>\n",
       "      <td id=\"T_5c035_row0_col11\" class=\"data row0 col11\" >1</td>\n",
       "      <td id=\"T_5c035_row0_col12\" class=\"data row0 col12\" >0</td>\n",
       "      <td id=\"T_5c035_row0_col13\" class=\"data row0 col13\" >0</td>\n",
       "      <td id=\"T_5c035_row0_col14\" class=\"data row0 col14\" >1</td>\n",
       "      <td id=\"T_5c035_row0_col15\" class=\"data row0 col15\" >0</td>\n",
       "      <td id=\"T_5c035_row0_col16\" class=\"data row0 col16\" >0</td>\n",
       "      <td id=\"T_5c035_row0_col17\" class=\"data row0 col17\" >0</td>\n",
       "      <td id=\"T_5c035_row0_col18\" class=\"data row0 col18\" >0</td>\n",
       "      <td id=\"T_5c035_row0_col19\" class=\"data row0 col19\" >0</td>\n",
       "      <td id=\"T_5c035_row0_col20\" class=\"data row0 col20\" >0</td>\n",
       "      <td id=\"T_5c035_row0_col21\" class=\"data row0 col21\" >0</td>\n",
       "      <td id=\"T_5c035_row0_col22\" class=\"data row0 col22\" >0</td>\n",
       "    </tr>\n",
       "    <tr>\n",
       "      <th id=\"T_5c035_level0_row1\" class=\"row_heading level0 row1\" >1</th>\n",
       "      <td id=\"T_5c035_row1_col0\" class=\"data row1 col0\" >1</td>\n",
       "      <td id=\"T_5c035_row1_col1\" class=\"data row1 col1\" >38.00</td>\n",
       "      <td id=\"T_5c035_row1_col2\" class=\"data row1 col2\" >1</td>\n",
       "      <td id=\"T_5c035_row1_col3\" class=\"data row1 col3\" >0</td>\n",
       "      <td id=\"T_5c035_row1_col4\" class=\"data row1 col4\" >17599</td>\n",
       "      <td id=\"T_5c035_row1_col5\" class=\"data row1 col5\" >71.28</td>\n",
       "      <td id=\"T_5c035_row1_col6\" class=\"data row1 col6\" >85.00</td>\n",
       "      <td id=\"T_5c035_row1_col7\" class=\"data row1 col7\" >1</td>\n",
       "      <td id=\"T_5c035_row1_col8\" class=\"data row1 col8\" >0</td>\n",
       "      <td id=\"T_5c035_row1_col9\" class=\"data row1 col9\" >0</td>\n",
       "      <td id=\"T_5c035_row1_col10\" class=\"data row1 col10\" >1</td>\n",
       "      <td id=\"T_5c035_row1_col11\" class=\"data row1 col11\" >0</td>\n",
       "      <td id=\"T_5c035_row1_col12\" class=\"data row1 col12\" >1</td>\n",
       "      <td id=\"T_5c035_row1_col13\" class=\"data row1 col13\" >0</td>\n",
       "      <td id=\"T_5c035_row1_col14\" class=\"data row1 col14\" >0</td>\n",
       "      <td id=\"T_5c035_row1_col15\" class=\"data row1 col15\" >0</td>\n",
       "      <td id=\"T_5c035_row1_col16\" class=\"data row1 col16\" >0</td>\n",
       "      <td id=\"T_5c035_row1_col17\" class=\"data row1 col17\" >1</td>\n",
       "      <td id=\"T_5c035_row1_col18\" class=\"data row1 col18\" >0</td>\n",
       "      <td id=\"T_5c035_row1_col19\" class=\"data row1 col19\" >0</td>\n",
       "      <td id=\"T_5c035_row1_col20\" class=\"data row1 col20\" >0</td>\n",
       "      <td id=\"T_5c035_row1_col21\" class=\"data row1 col21\" >0</td>\n",
       "      <td id=\"T_5c035_row1_col22\" class=\"data row1 col22\" >0</td>\n",
       "    </tr>\n",
       "    <tr>\n",
       "      <th id=\"T_5c035_level0_row2\" class=\"row_heading level0 row2\" >2</th>\n",
       "      <td id=\"T_5c035_row2_col0\" class=\"data row2 col0\" >1</td>\n",
       "      <td id=\"T_5c035_row2_col1\" class=\"data row2 col1\" >26.00</td>\n",
       "      <td id=\"T_5c035_row2_col2\" class=\"data row2 col2\" >0</td>\n",
       "      <td id=\"T_5c035_row2_col3\" class=\"data row2 col3\" >0</td>\n",
       "      <td id=\"T_5c035_row2_col4\" class=\"data row2 col4\" >3101282</td>\n",
       "      <td id=\"T_5c035_row2_col5\" class=\"data row2 col5\" >7.92</td>\n",
       "      <td id=\"T_5c035_row2_col6\" class=\"data row2 col6\" >nan</td>\n",
       "      <td id=\"T_5c035_row2_col7\" class=\"data row2 col7\" >0</td>\n",
       "      <td id=\"T_5c035_row2_col8\" class=\"data row2 col8\" >0</td>\n",
       "      <td id=\"T_5c035_row2_col9\" class=\"data row2 col9\" >1</td>\n",
       "      <td id=\"T_5c035_row2_col10\" class=\"data row2 col10\" >1</td>\n",
       "      <td id=\"T_5c035_row2_col11\" class=\"data row2 col11\" >0</td>\n",
       "      <td id=\"T_5c035_row2_col12\" class=\"data row2 col12\" >0</td>\n",
       "      <td id=\"T_5c035_row2_col13\" class=\"data row2 col13\" >0</td>\n",
       "      <td id=\"T_5c035_row2_col14\" class=\"data row2 col14\" >1</td>\n",
       "      <td id=\"T_5c035_row2_col15\" class=\"data row2 col15\" >0</td>\n",
       "      <td id=\"T_5c035_row2_col16\" class=\"data row2 col16\" >0</td>\n",
       "      <td id=\"T_5c035_row2_col17\" class=\"data row2 col17\" >0</td>\n",
       "      <td id=\"T_5c035_row2_col18\" class=\"data row2 col18\" >0</td>\n",
       "      <td id=\"T_5c035_row2_col19\" class=\"data row2 col19\" >0</td>\n",
       "      <td id=\"T_5c035_row2_col20\" class=\"data row2 col20\" >0</td>\n",
       "      <td id=\"T_5c035_row2_col21\" class=\"data row2 col21\" >0</td>\n",
       "      <td id=\"T_5c035_row2_col22\" class=\"data row2 col22\" >0</td>\n",
       "    </tr>\n",
       "    <tr>\n",
       "      <th id=\"T_5c035_level0_row3\" class=\"row_heading level0 row3\" >3</th>\n",
       "      <td id=\"T_5c035_row3_col0\" class=\"data row3 col0\" >1</td>\n",
       "      <td id=\"T_5c035_row3_col1\" class=\"data row3 col1\" >35.00</td>\n",
       "      <td id=\"T_5c035_row3_col2\" class=\"data row3 col2\" >1</td>\n",
       "      <td id=\"T_5c035_row3_col3\" class=\"data row3 col3\" >0</td>\n",
       "      <td id=\"T_5c035_row3_col4\" class=\"data row3 col4\" >113803</td>\n",
       "      <td id=\"T_5c035_row3_col5\" class=\"data row3 col5\" >53.10</td>\n",
       "      <td id=\"T_5c035_row3_col6\" class=\"data row3 col6\" >123.00</td>\n",
       "      <td id=\"T_5c035_row3_col7\" class=\"data row3 col7\" >1</td>\n",
       "      <td id=\"T_5c035_row3_col8\" class=\"data row3 col8\" >0</td>\n",
       "      <td id=\"T_5c035_row3_col9\" class=\"data row3 col9\" >0</td>\n",
       "      <td id=\"T_5c035_row3_col10\" class=\"data row3 col10\" >1</td>\n",
       "      <td id=\"T_5c035_row3_col11\" class=\"data row3 col11\" >0</td>\n",
       "      <td id=\"T_5c035_row3_col12\" class=\"data row3 col12\" >0</td>\n",
       "      <td id=\"T_5c035_row3_col13\" class=\"data row3 col13\" >0</td>\n",
       "      <td id=\"T_5c035_row3_col14\" class=\"data row3 col14\" >1</td>\n",
       "      <td id=\"T_5c035_row3_col15\" class=\"data row3 col15\" >0</td>\n",
       "      <td id=\"T_5c035_row3_col16\" class=\"data row3 col16\" >0</td>\n",
       "      <td id=\"T_5c035_row3_col17\" class=\"data row3 col17\" >1</td>\n",
       "      <td id=\"T_5c035_row3_col18\" class=\"data row3 col18\" >0</td>\n",
       "      <td id=\"T_5c035_row3_col19\" class=\"data row3 col19\" >0</td>\n",
       "      <td id=\"T_5c035_row3_col20\" class=\"data row3 col20\" >0</td>\n",
       "      <td id=\"T_5c035_row3_col21\" class=\"data row3 col21\" >0</td>\n",
       "      <td id=\"T_5c035_row3_col22\" class=\"data row3 col22\" >0</td>\n",
       "    </tr>\n",
       "    <tr>\n",
       "      <th id=\"T_5c035_level0_row4\" class=\"row_heading level0 row4\" >4</th>\n",
       "      <td id=\"T_5c035_row4_col0\" class=\"data row4 col0\" >0</td>\n",
       "      <td id=\"T_5c035_row4_col1\" class=\"data row4 col1\" >35.00</td>\n",
       "      <td id=\"T_5c035_row4_col2\" class=\"data row4 col2\" >0</td>\n",
       "      <td id=\"T_5c035_row4_col3\" class=\"data row4 col3\" >0</td>\n",
       "      <td id=\"T_5c035_row4_col4\" class=\"data row4 col4\" >373450</td>\n",
       "      <td id=\"T_5c035_row4_col5\" class=\"data row4 col5\" >8.05</td>\n",
       "      <td id=\"T_5c035_row4_col6\" class=\"data row4 col6\" >nan</td>\n",
       "      <td id=\"T_5c035_row4_col7\" class=\"data row4 col7\" >0</td>\n",
       "      <td id=\"T_5c035_row4_col8\" class=\"data row4 col8\" >0</td>\n",
       "      <td id=\"T_5c035_row4_col9\" class=\"data row4 col9\" >1</td>\n",
       "      <td id=\"T_5c035_row4_col10\" class=\"data row4 col10\" >0</td>\n",
       "      <td id=\"T_5c035_row4_col11\" class=\"data row4 col11\" >1</td>\n",
       "      <td id=\"T_5c035_row4_col12\" class=\"data row4 col12\" >0</td>\n",
       "      <td id=\"T_5c035_row4_col13\" class=\"data row4 col13\" >0</td>\n",
       "      <td id=\"T_5c035_row4_col14\" class=\"data row4 col14\" >1</td>\n",
       "      <td id=\"T_5c035_row4_col15\" class=\"data row4 col15\" >0</td>\n",
       "      <td id=\"T_5c035_row4_col16\" class=\"data row4 col16\" >0</td>\n",
       "      <td id=\"T_5c035_row4_col17\" class=\"data row4 col17\" >0</td>\n",
       "      <td id=\"T_5c035_row4_col18\" class=\"data row4 col18\" >0</td>\n",
       "      <td id=\"T_5c035_row4_col19\" class=\"data row4 col19\" >0</td>\n",
       "      <td id=\"T_5c035_row4_col20\" class=\"data row4 col20\" >0</td>\n",
       "      <td id=\"T_5c035_row4_col21\" class=\"data row4 col21\" >0</td>\n",
       "      <td id=\"T_5c035_row4_col22\" class=\"data row4 col22\" >0</td>\n",
       "    </tr>\n",
       "  </tbody>\n",
       "</table>\n"
      ],
      "text/plain": [
       "<pandas.io.formats.style.Styler at 0x26aca1f8970>"
      ]
     },
     "execution_count": 338,
     "metadata": {},
     "output_type": "execute_result"
    }
   ],
   "source": [
    "df = raw_df.copy()\n",
    "df = preprocess_data(df)\n",
    "df[:5].style.format(precision=2)"
   ]
  },
  {
   "attachments": {},
   "cell_type": "markdown",
   "metadata": {},
   "source": [
    "## Splitting the data"
   ]
  },
  {
   "attachments": {},
   "cell_type": "markdown",
   "metadata": {},
   "source": [
    "Here we will split the data into training, validation and test sets."
   ]
  },
  {
   "cell_type": "code",
   "execution_count": 339,
   "metadata": {},
   "outputs": [],
   "source": [
    "from utils import split_data\n",
    "\n",
    "\n",
    "X_train, y_train, X_val, y_val, X_test, y_test = split_data(df)"
   ]
  },
  {
   "cell_type": "code",
   "execution_count": 340,
   "metadata": {},
   "outputs": [
    {
     "name": "stdout",
     "output_type": "stream",
     "text": [
      "Train size: 712 (79.91%)\n",
      "Validation size: 89 (9.99%)\n",
      "Test size: 90 (10.10%)\n"
     ]
    }
   ],
   "source": [
    "print(f'Train size: {len(X_train)} ({len(X_train)/len(df)*100:.2f}%)')\n",
    "print(f'Validation size: {len(X_val)} ({len(X_val)/len(df)*100:.2f}%)')\n",
    "print(f'Test size: {len(X_test)} ({len(X_test)/len(df)*100:.2f}%)')"
   ]
  },
  {
   "cell_type": "code",
   "execution_count": 341,
   "metadata": {},
   "outputs": [
    {
     "data": {
      "text/html": [
       "<style type=\"text/css\">\n",
       "</style>\n",
       "<table id=\"T_25d2c\">\n",
       "  <thead>\n",
       "    <tr>\n",
       "      <th class=\"blank level0\" >&nbsp;</th>\n",
       "      <th id=\"T_25d2c_level0_col0\" class=\"col_heading level0 col0\" >Age</th>\n",
       "      <th id=\"T_25d2c_level0_col1\" class=\"col_heading level0 col1\" >SibSp</th>\n",
       "      <th id=\"T_25d2c_level0_col2\" class=\"col_heading level0 col2\" >Parch</th>\n",
       "      <th id=\"T_25d2c_level0_col3\" class=\"col_heading level0 col3\" >Ticket</th>\n",
       "      <th id=\"T_25d2c_level0_col4\" class=\"col_heading level0 col4\" >Fare</th>\n",
       "      <th id=\"T_25d2c_level0_col5\" class=\"col_heading level0 col5\" >Room</th>\n",
       "      <th id=\"T_25d2c_level0_col6\" class=\"col_heading level0 col6\" >Pclass_1</th>\n",
       "      <th id=\"T_25d2c_level0_col7\" class=\"col_heading level0 col7\" >Pclass_2</th>\n",
       "      <th id=\"T_25d2c_level0_col8\" class=\"col_heading level0 col8\" >Pclass_3</th>\n",
       "      <th id=\"T_25d2c_level0_col9\" class=\"col_heading level0 col9\" >Sex_female</th>\n",
       "      <th id=\"T_25d2c_level0_col10\" class=\"col_heading level0 col10\" >Sex_male</th>\n",
       "      <th id=\"T_25d2c_level0_col11\" class=\"col_heading level0 col11\" >Embarked_C</th>\n",
       "      <th id=\"T_25d2c_level0_col12\" class=\"col_heading level0 col12\" >Embarked_Q</th>\n",
       "      <th id=\"T_25d2c_level0_col13\" class=\"col_heading level0 col13\" >Embarked_S</th>\n",
       "      <th id=\"T_25d2c_level0_col14\" class=\"col_heading level0 col14\" >Deck_A</th>\n",
       "      <th id=\"T_25d2c_level0_col15\" class=\"col_heading level0 col15\" >Deck_B</th>\n",
       "      <th id=\"T_25d2c_level0_col16\" class=\"col_heading level0 col16\" >Deck_C</th>\n",
       "      <th id=\"T_25d2c_level0_col17\" class=\"col_heading level0 col17\" >Deck_D</th>\n",
       "      <th id=\"T_25d2c_level0_col18\" class=\"col_heading level0 col18\" >Deck_E</th>\n",
       "      <th id=\"T_25d2c_level0_col19\" class=\"col_heading level0 col19\" >Deck_F</th>\n",
       "      <th id=\"T_25d2c_level0_col20\" class=\"col_heading level0 col20\" >Deck_G</th>\n",
       "      <th id=\"T_25d2c_level0_col21\" class=\"col_heading level0 col21\" >Deck_T</th>\n",
       "    </tr>\n",
       "  </thead>\n",
       "  <tbody>\n",
       "    <tr>\n",
       "      <th id=\"T_25d2c_level0_row0\" class=\"row_heading level0 row0\" >58</th>\n",
       "      <td id=\"T_25d2c_row0_col0\" class=\"data row0 col0\" >5.00</td>\n",
       "      <td id=\"T_25d2c_row0_col1\" class=\"data row0 col1\" >1</td>\n",
       "      <td id=\"T_25d2c_row0_col2\" class=\"data row0 col2\" >2</td>\n",
       "      <td id=\"T_25d2c_row0_col3\" class=\"data row0 col3\" >34651</td>\n",
       "      <td id=\"T_25d2c_row0_col4\" class=\"data row0 col4\" >27.75</td>\n",
       "      <td id=\"T_25d2c_row0_col5\" class=\"data row0 col5\" >nan</td>\n",
       "      <td id=\"T_25d2c_row0_col6\" class=\"data row0 col6\" >0</td>\n",
       "      <td id=\"T_25d2c_row0_col7\" class=\"data row0 col7\" >1</td>\n",
       "      <td id=\"T_25d2c_row0_col8\" class=\"data row0 col8\" >0</td>\n",
       "      <td id=\"T_25d2c_row0_col9\" class=\"data row0 col9\" >1</td>\n",
       "      <td id=\"T_25d2c_row0_col10\" class=\"data row0 col10\" >0</td>\n",
       "      <td id=\"T_25d2c_row0_col11\" class=\"data row0 col11\" >0</td>\n",
       "      <td id=\"T_25d2c_row0_col12\" class=\"data row0 col12\" >0</td>\n",
       "      <td id=\"T_25d2c_row0_col13\" class=\"data row0 col13\" >1</td>\n",
       "      <td id=\"T_25d2c_row0_col14\" class=\"data row0 col14\" >0</td>\n",
       "      <td id=\"T_25d2c_row0_col15\" class=\"data row0 col15\" >0</td>\n",
       "      <td id=\"T_25d2c_row0_col16\" class=\"data row0 col16\" >0</td>\n",
       "      <td id=\"T_25d2c_row0_col17\" class=\"data row0 col17\" >0</td>\n",
       "      <td id=\"T_25d2c_row0_col18\" class=\"data row0 col18\" >0</td>\n",
       "      <td id=\"T_25d2c_row0_col19\" class=\"data row0 col19\" >0</td>\n",
       "      <td id=\"T_25d2c_row0_col20\" class=\"data row0 col20\" >0</td>\n",
       "      <td id=\"T_25d2c_row0_col21\" class=\"data row0 col21\" >0</td>\n",
       "    </tr>\n",
       "    <tr>\n",
       "      <th id=\"T_25d2c_level0_row1\" class=\"row_heading level0 row1\" >314</th>\n",
       "      <td id=\"T_25d2c_row1_col0\" class=\"data row1 col0\" >43.00</td>\n",
       "      <td id=\"T_25d2c_row1_col1\" class=\"data row1 col1\" >1</td>\n",
       "      <td id=\"T_25d2c_row1_col2\" class=\"data row1 col2\" >1</td>\n",
       "      <td id=\"T_25d2c_row1_col3\" class=\"data row1 col3\" >13529</td>\n",
       "      <td id=\"T_25d2c_row1_col4\" class=\"data row1 col4\" >26.25</td>\n",
       "      <td id=\"T_25d2c_row1_col5\" class=\"data row1 col5\" >nan</td>\n",
       "      <td id=\"T_25d2c_row1_col6\" class=\"data row1 col6\" >0</td>\n",
       "      <td id=\"T_25d2c_row1_col7\" class=\"data row1 col7\" >1</td>\n",
       "      <td id=\"T_25d2c_row1_col8\" class=\"data row1 col8\" >0</td>\n",
       "      <td id=\"T_25d2c_row1_col9\" class=\"data row1 col9\" >0</td>\n",
       "      <td id=\"T_25d2c_row1_col10\" class=\"data row1 col10\" >1</td>\n",
       "      <td id=\"T_25d2c_row1_col11\" class=\"data row1 col11\" >0</td>\n",
       "      <td id=\"T_25d2c_row1_col12\" class=\"data row1 col12\" >0</td>\n",
       "      <td id=\"T_25d2c_row1_col13\" class=\"data row1 col13\" >1</td>\n",
       "      <td id=\"T_25d2c_row1_col14\" class=\"data row1 col14\" >0</td>\n",
       "      <td id=\"T_25d2c_row1_col15\" class=\"data row1 col15\" >0</td>\n",
       "      <td id=\"T_25d2c_row1_col16\" class=\"data row1 col16\" >0</td>\n",
       "      <td id=\"T_25d2c_row1_col17\" class=\"data row1 col17\" >0</td>\n",
       "      <td id=\"T_25d2c_row1_col18\" class=\"data row1 col18\" >0</td>\n",
       "      <td id=\"T_25d2c_row1_col19\" class=\"data row1 col19\" >0</td>\n",
       "      <td id=\"T_25d2c_row1_col20\" class=\"data row1 col20\" >0</td>\n",
       "      <td id=\"T_25d2c_row1_col21\" class=\"data row1 col21\" >0</td>\n",
       "    </tr>\n",
       "    <tr>\n",
       "      <th id=\"T_25d2c_level0_row2\" class=\"row_heading level0 row2\" >365</th>\n",
       "      <td id=\"T_25d2c_row2_col0\" class=\"data row2 col0\" >30.00</td>\n",
       "      <td id=\"T_25d2c_row2_col1\" class=\"data row2 col1\" >0</td>\n",
       "      <td id=\"T_25d2c_row2_col2\" class=\"data row2 col2\" >0</td>\n",
       "      <td id=\"T_25d2c_row2_col3\" class=\"data row2 col3\" >7076</td>\n",
       "      <td id=\"T_25d2c_row2_col4\" class=\"data row2 col4\" >7.25</td>\n",
       "      <td id=\"T_25d2c_row2_col5\" class=\"data row2 col5\" >nan</td>\n",
       "      <td id=\"T_25d2c_row2_col6\" class=\"data row2 col6\" >0</td>\n",
       "      <td id=\"T_25d2c_row2_col7\" class=\"data row2 col7\" >0</td>\n",
       "      <td id=\"T_25d2c_row2_col8\" class=\"data row2 col8\" >1</td>\n",
       "      <td id=\"T_25d2c_row2_col9\" class=\"data row2 col9\" >0</td>\n",
       "      <td id=\"T_25d2c_row2_col10\" class=\"data row2 col10\" >1</td>\n",
       "      <td id=\"T_25d2c_row2_col11\" class=\"data row2 col11\" >0</td>\n",
       "      <td id=\"T_25d2c_row2_col12\" class=\"data row2 col12\" >0</td>\n",
       "      <td id=\"T_25d2c_row2_col13\" class=\"data row2 col13\" >1</td>\n",
       "      <td id=\"T_25d2c_row2_col14\" class=\"data row2 col14\" >0</td>\n",
       "      <td id=\"T_25d2c_row2_col15\" class=\"data row2 col15\" >0</td>\n",
       "      <td id=\"T_25d2c_row2_col16\" class=\"data row2 col16\" >0</td>\n",
       "      <td id=\"T_25d2c_row2_col17\" class=\"data row2 col17\" >0</td>\n",
       "      <td id=\"T_25d2c_row2_col18\" class=\"data row2 col18\" >0</td>\n",
       "      <td id=\"T_25d2c_row2_col19\" class=\"data row2 col19\" >0</td>\n",
       "      <td id=\"T_25d2c_row2_col20\" class=\"data row2 col20\" >0</td>\n",
       "      <td id=\"T_25d2c_row2_col21\" class=\"data row2 col21\" >0</td>\n",
       "    </tr>\n",
       "    <tr>\n",
       "      <th id=\"T_25d2c_level0_row3\" class=\"row_heading level0 row3\" >700</th>\n",
       "      <td id=\"T_25d2c_row3_col0\" class=\"data row3 col0\" >18.00</td>\n",
       "      <td id=\"T_25d2c_row3_col1\" class=\"data row3 col1\" >1</td>\n",
       "      <td id=\"T_25d2c_row3_col2\" class=\"data row3 col2\" >0</td>\n",
       "      <td id=\"T_25d2c_row3_col3\" class=\"data row3 col3\" >17757</td>\n",
       "      <td id=\"T_25d2c_row3_col4\" class=\"data row3 col4\" >227.53</td>\n",
       "      <td id=\"T_25d2c_row3_col5\" class=\"data row3 col5\" >62.00</td>\n",
       "      <td id=\"T_25d2c_row3_col6\" class=\"data row3 col6\" >1</td>\n",
       "      <td id=\"T_25d2c_row3_col7\" class=\"data row3 col7\" >0</td>\n",
       "      <td id=\"T_25d2c_row3_col8\" class=\"data row3 col8\" >0</td>\n",
       "      <td id=\"T_25d2c_row3_col9\" class=\"data row3 col9\" >1</td>\n",
       "      <td id=\"T_25d2c_row3_col10\" class=\"data row3 col10\" >0</td>\n",
       "      <td id=\"T_25d2c_row3_col11\" class=\"data row3 col11\" >1</td>\n",
       "      <td id=\"T_25d2c_row3_col12\" class=\"data row3 col12\" >0</td>\n",
       "      <td id=\"T_25d2c_row3_col13\" class=\"data row3 col13\" >0</td>\n",
       "      <td id=\"T_25d2c_row3_col14\" class=\"data row3 col14\" >0</td>\n",
       "      <td id=\"T_25d2c_row3_col15\" class=\"data row3 col15\" >0</td>\n",
       "      <td id=\"T_25d2c_row3_col16\" class=\"data row3 col16\" >1</td>\n",
       "      <td id=\"T_25d2c_row3_col17\" class=\"data row3 col17\" >0</td>\n",
       "      <td id=\"T_25d2c_row3_col18\" class=\"data row3 col18\" >0</td>\n",
       "      <td id=\"T_25d2c_row3_col19\" class=\"data row3 col19\" >0</td>\n",
       "      <td id=\"T_25d2c_row3_col20\" class=\"data row3 col20\" >0</td>\n",
       "      <td id=\"T_25d2c_row3_col21\" class=\"data row3 col21\" >0</td>\n",
       "    </tr>\n",
       "    <tr>\n",
       "      <th id=\"T_25d2c_level0_row4\" class=\"row_heading level0 row4\" >408</th>\n",
       "      <td id=\"T_25d2c_row4_col0\" class=\"data row4 col0\" >21.00</td>\n",
       "      <td id=\"T_25d2c_row4_col1\" class=\"data row4 col1\" >0</td>\n",
       "      <td id=\"T_25d2c_row4_col2\" class=\"data row4 col2\" >0</td>\n",
       "      <td id=\"T_25d2c_row4_col3\" class=\"data row4 col3\" >312992</td>\n",
       "      <td id=\"T_25d2c_row4_col4\" class=\"data row4 col4\" >7.78</td>\n",
       "      <td id=\"T_25d2c_row4_col5\" class=\"data row4 col5\" >nan</td>\n",
       "      <td id=\"T_25d2c_row4_col6\" class=\"data row4 col6\" >0</td>\n",
       "      <td id=\"T_25d2c_row4_col7\" class=\"data row4 col7\" >0</td>\n",
       "      <td id=\"T_25d2c_row4_col8\" class=\"data row4 col8\" >1</td>\n",
       "      <td id=\"T_25d2c_row4_col9\" class=\"data row4 col9\" >0</td>\n",
       "      <td id=\"T_25d2c_row4_col10\" class=\"data row4 col10\" >1</td>\n",
       "      <td id=\"T_25d2c_row4_col11\" class=\"data row4 col11\" >0</td>\n",
       "      <td id=\"T_25d2c_row4_col12\" class=\"data row4 col12\" >0</td>\n",
       "      <td id=\"T_25d2c_row4_col13\" class=\"data row4 col13\" >1</td>\n",
       "      <td id=\"T_25d2c_row4_col14\" class=\"data row4 col14\" >0</td>\n",
       "      <td id=\"T_25d2c_row4_col15\" class=\"data row4 col15\" >0</td>\n",
       "      <td id=\"T_25d2c_row4_col16\" class=\"data row4 col16\" >0</td>\n",
       "      <td id=\"T_25d2c_row4_col17\" class=\"data row4 col17\" >0</td>\n",
       "      <td id=\"T_25d2c_row4_col18\" class=\"data row4 col18\" >0</td>\n",
       "      <td id=\"T_25d2c_row4_col19\" class=\"data row4 col19\" >0</td>\n",
       "      <td id=\"T_25d2c_row4_col20\" class=\"data row4 col20\" >0</td>\n",
       "      <td id=\"T_25d2c_row4_col21\" class=\"data row4 col21\" >0</td>\n",
       "    </tr>\n",
       "  </tbody>\n",
       "</table>\n"
      ],
      "text/plain": [
       "<pandas.io.formats.style.Styler at 0x26ac9207a00>"
      ]
     },
     "execution_count": 341,
     "metadata": {},
     "output_type": "execute_result"
    }
   ],
   "source": [
    "X_train[:5].style.format(precision=2)"
   ]
  },
  {
   "cell_type": "code",
   "execution_count": 342,
   "metadata": {},
   "outputs": [
    {
     "data": {
      "text/plain": [
       "58     1\n",
       "314    0\n",
       "365    0\n",
       "700    1\n",
       "408    0\n",
       "Name: Survived, dtype: int64"
      ]
     },
     "execution_count": 342,
     "metadata": {},
     "output_type": "execute_result"
    }
   ],
   "source": [
    "y_train.iloc[:5]"
   ]
  },
  {
   "attachments": {},
   "cell_type": "markdown",
   "metadata": {},
   "source": [
    "## Conclusion"
   ]
  },
  {
   "attachments": {},
   "cell_type": "markdown",
   "metadata": {},
   "source": [
    "Finally we're done with the preprocessing the data is ready to be fed into a machine learning model.\n",
    "\n",
    "The next step is to choose a model and train it on the training set."
   ]
  }
 ],
 "metadata": {
  "kernelspec": {
   "display_name": "ai",
   "language": "python",
   "name": "python3"
  },
  "language_info": {
   "codemirror_mode": {
    "name": "ipython",
    "version": 3
   },
   "file_extension": ".py",
   "mimetype": "text/x-python",
   "name": "python",
   "nbconvert_exporter": "python",
   "pygments_lexer": "ipython3",
   "version": "3.9.16"
  },
  "orig_nbformat": 4
 },
 "nbformat": 4,
 "nbformat_minor": 2
}
